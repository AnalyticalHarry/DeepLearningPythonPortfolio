{
 "cells": [
  {
   "cell_type": "markdown",
   "id": "fbb96387-4240-4a44-9101-15a2e329fc6e",
   "metadata": {},
   "source": [
    "## Confusion Matrix "
   ]
  },
  {
   "cell_type": "markdown",
   "id": "57df5178-7f41-4787-8c86-11d61f209ff0",
   "metadata": {},
   "source": [
    "#### Hemant Thapa"
   ]
  },
  {
   "cell_type": "code",
   "execution_count": 1,
   "id": "fc9d542c-c9de-457a-98e9-564873ff30b4",
   "metadata": {},
   "outputs": [],
   "source": [
    "import numpy as np\n",
    "import pandas as pd\n",
    "from sklearn.metrics import confusion_matrix"
   ]
  },
  {
   "cell_type": "markdown",
   "id": "2494db00-985b-4a6a-8ac1-f96e91044a08",
   "metadata": {},
   "source": [
    "- True Positive (TP):\n",
    "\n",
    "A True Positive occurs when a model or classifier correctly predicts a positive or \"yes\" class when the true label is indeed positive. In other words, it correctly identifies the presence of a condition or event when it is actually present."
   ]
  },
  {
   "cell_type": "markdown",
   "id": "7673b227-2483-4908-9d20-2320d58e3bc7",
   "metadata": {},
   "source": [
    "- True Negative (TN):\n",
    "\n",
    "A True Negative occurs when a model or classifier correctly predicts a negative or \"no\" class when the true label is indeed negative. It correctly identifies the absence of a condition or event when it is actually absent."
   ]
  },
  {
   "cell_type": "markdown",
   "id": "b106f0ad-c386-4ec8-9add-cb97480ae46e",
   "metadata": {},
   "source": [
    "- False Positive (FP):\n",
    "\n",
    "A False Positive occurs when a model or classifier incorrectly predicts a positive or \"yes\" class when the true label is actually negative. It means that the model has falsely identified the presence of a condition or event when it is not present. False Positives are also known as Type I errors."
   ]
  },
  {
   "cell_type": "markdown",
   "id": "ddec05e8-7996-4770-b278-9927de907681",
   "metadata": {},
   "source": [
    "- False Negative (FN):\n",
    "\n",
    "A False Negative occurs when a model or classifier incorrectly predicts a negative or \"no\" class when the true label is actually positive. It means that the model has falsely identified the absence of a condition or event when it is actually present. False Negatives are also known as Type II errors."
   ]
  },
  {
   "cell_type": "markdown",
   "id": "98148b64-1162-4d76-b0f9-ff1a90ac8987",
   "metadata": {},
   "source": [
    "#### Example 1"
   ]
  },
  {
   "cell_type": "code",
   "execution_count": 2,
   "id": "e96dead1-bf2f-4639-8f48-0a4979a030a9",
   "metadata": {},
   "outputs": [],
   "source": [
    "#creating dataset of y true valyes and predicted\n",
    "data = {'y_true': [0, 1, 0, 1],\n",
    "        'y_pred': [1, 1, 1, 0]\n",
    "       }"
   ]
  },
  {
   "cell_type": "code",
   "execution_count": 3,
   "id": "5a9ca919-dd18-4610-a2b9-e143bf3cb56c",
   "metadata": {},
   "outputs": [],
   "source": [
    "#calculating confusion matrix\n",
    "cm = confusion_matrix(data['y_true'], data['y_pred'])"
   ]
  },
  {
   "cell_type": "code",
   "execution_count": 4,
   "id": "5d3504d5-7549-4ca1-967c-0bad9f8732f2",
   "metadata": {},
   "outputs": [
    {
     "name": "stdout",
     "output_type": "stream",
     "text": [
      "Confusion Matrix: \n",
      "\n",
      "[[0 2]\n",
      " [1 1]]\n"
     ]
    }
   ],
   "source": [
    "print(\"Confusion Matrix: \\n\")\n",
    "print(cm)"
   ]
  },
  {
   "cell_type": "code",
   "execution_count": 5,
   "id": "2b85d3e7-6659-4e14-9bb7-7dceffd48cc7",
   "metadata": {},
   "outputs": [],
   "source": [
    "#indexing each value for truth table\n",
    "tn = cm[0, 0]\n",
    "fp = cm[0, 1]\n",
    "fn = cm[1, 0]\n",
    "tp = cm[1, 1]"
   ]
  },
  {
   "cell_type": "code",
   "execution_count": 6,
   "id": "6459dd55-e9c1-4edf-a307-449091764469",
   "metadata": {},
   "outputs": [
    {
     "name": "stdout",
     "output_type": "stream",
     "text": [
      "True Positives (TP): 1\n",
      "True Negatives (TN): 0\n"
     ]
    }
   ],
   "source": [
    "print(f\"True Positives (TP): {tp}\")\n",
    "print(f\"True Negatives (TN): {tn}\")"
   ]
  },
  {
   "cell_type": "markdown",
   "id": "7c6144af-6e20-4cde-a01b-0ba23edd16db",
   "metadata": {},
   "source": [
    "True Positive (TP): Correctly identifying a positive case.\n",
    "\n",
    "True Negative (TN): Correctly identifying a negative case."
   ]
  },
  {
   "cell_type": "code",
   "execution_count": 7,
   "id": "a213415f-e3a4-47b6-8a59-decde455b51e",
   "metadata": {},
   "outputs": [
    {
     "name": "stdout",
     "output_type": "stream",
     "text": [
      "False Positives (FP): 2\n",
      "False Negatives (FN): 1\n"
     ]
    }
   ],
   "source": [
    "print(f\"False Positives (FP): {fp}\")\n",
    "print(f\"False Negatives (FN): {fn}\")"
   ]
  },
  {
   "cell_type": "markdown",
   "id": "cdb34407-dd88-408a-a645-ea68d6485807",
   "metadata": {},
   "source": [
    "False Positive (FP): Incorrectly identifying a positive case (Type I error).\n",
    "\n",
    "False Negative (FN): Incorrectly identifying a negative case (Type II error)."
   ]
  },
  {
   "cell_type": "markdown",
   "id": "7cc087ab-f20c-4890-b9a6-05a47b45d531",
   "metadata": {},
   "source": [
    "#### Example 2"
   ]
  },
  {
   "cell_type": "code",
   "execution_count": 8,
   "id": "85340f4f-3603-47ea-8568-9570b020ba64",
   "metadata": {},
   "outputs": [],
   "source": [
    "#creating image dataset for true value and predicted values\n",
    "image_data = { 'y_true': [\"cat\", \"ant\", \"cat\", \"cat\", \"ant\", \"bird\"],\n",
    "               'y_pred': [\"ant\", \"ant\", \"cat\", \"cat\", \"ant\", \"cat\"]\n",
    "             }"
   ]
  },
  {
   "cell_type": "code",
   "execution_count": 9,
   "id": "83f7c543-8693-472a-9af0-7c0c99db5dd8",
   "metadata": {},
   "outputs": [
    {
     "name": "stdout",
     "output_type": "stream",
     "text": [
      "Confusion Matrix: \n",
      "\n",
      "[[2 0 0]\n",
      " [0 0 1]\n",
      " [1 0 2]]\n"
     ]
    }
   ],
   "source": [
    "#labelling values\n",
    "labels = [\"ant\", \"bird\", \"cat\"]\n",
    "#confusion matrix\n",
    "cm = confusion_matrix(image_data['y_true'], image_data['y_pred'], labels=labels)\n",
    "print(\"Confusion Matrix: \\n\")\n",
    "print(cm)"
   ]
  },
  {
   "cell_type": "code",
   "execution_count": 10,
   "id": "db6faceb-bd6c-495b-9c31-8fe9eb710d3d",
   "metadata": {},
   "outputs": [],
   "source": [
    "#dictionaries for each class\n",
    "metrics = {label: {'TP': 0, 'FP': 0, 'FN': 0, 'TN': 0} for label in labels}\n",
    "\n",
    "#TP, FP, FN, TN \n",
    "for i, label in enumerate(labels):\n",
    "    TP = cm[i, i]\n",
    "    FN = cm[i, :].sum() - TP\n",
    "    FP = cm[:, i].sum() - TP\n",
    "    TN = cm.sum() - (FP + FN + TP)\n",
    "    \n",
    "    metrics[label]['TP'] = TP\n",
    "    metrics[label]['FN'] = FN\n",
    "    metrics[label]['FP'] = FP\n",
    "    metrics[label]['TN'] = TN\n"
   ]
  },
  {
   "cell_type": "markdown",
   "id": "0877d3e2-5cc5-4caa-92b3-0059ab01fe02",
   "metadata": {},
   "source": [
    "| True Class (y_true) | Predicted Class (y_pred) | Outcome  |\n",
    "|---------------------|---------------------------|----------|\n",
    "|         cat         |            ant            | Incorrect |\n",
    "|         ant         |            ant            | Correct  |\n",
    "|         cat         |            cat            | Correct  |\n",
    "|         cat         |            cat            | Correct  |\n",
    "|         ant         |            ant            | Correct  |\n",
    "|         bird        |            cat            | Incorrect |\n"
   ]
  },
  {
   "cell_type": "code",
   "execution_count": 11,
   "id": "340c5603-7f12-4bf1-aa80-e36339d701b8",
   "metadata": {},
   "outputs": [],
   "source": [
    "cm_result = pd.DataFrame(metrics).T"
   ]
  },
  {
   "cell_type": "code",
   "execution_count": 12,
   "id": "f792fe12-3702-4d80-8658-9f680a442884",
   "metadata": {},
   "outputs": [
    {
     "data": {
      "text/html": [
       "<div>\n",
       "<style scoped>\n",
       "    .dataframe tbody tr th:only-of-type {\n",
       "        vertical-align: middle;\n",
       "    }\n",
       "\n",
       "    .dataframe tbody tr th {\n",
       "        vertical-align: top;\n",
       "    }\n",
       "\n",
       "    .dataframe thead th {\n",
       "        text-align: right;\n",
       "    }\n",
       "</style>\n",
       "<table border=\"1\" class=\"dataframe\">\n",
       "  <thead>\n",
       "    <tr style=\"text-align: right;\">\n",
       "      <th></th>\n",
       "      <th>TP</th>\n",
       "      <th>FP</th>\n",
       "      <th>FN</th>\n",
       "      <th>TN</th>\n",
       "    </tr>\n",
       "  </thead>\n",
       "  <tbody>\n",
       "    <tr>\n",
       "      <th>ant</th>\n",
       "      <td>2</td>\n",
       "      <td>1</td>\n",
       "      <td>0</td>\n",
       "      <td>3</td>\n",
       "    </tr>\n",
       "    <tr>\n",
       "      <th>bird</th>\n",
       "      <td>0</td>\n",
       "      <td>0</td>\n",
       "      <td>1</td>\n",
       "      <td>5</td>\n",
       "    </tr>\n",
       "    <tr>\n",
       "      <th>cat</th>\n",
       "      <td>2</td>\n",
       "      <td>1</td>\n",
       "      <td>1</td>\n",
       "      <td>2</td>\n",
       "    </tr>\n",
       "  </tbody>\n",
       "</table>\n",
       "</div>"
      ],
      "text/plain": [
       "      TP  FP  FN  TN\n",
       "ant    2   1   0   3\n",
       "bird   0   0   1   5\n",
       "cat    2   1   1   2"
      ]
     },
     "execution_count": 12,
     "metadata": {},
     "output_type": "execute_result"
    }
   ],
   "source": [
    "cm_result"
   ]
  },
  {
   "cell_type": "code",
   "execution_count": 13,
   "id": "68408933-751f-4992-9b37-bdd8a19402e4",
   "metadata": {},
   "outputs": [],
   "source": [
    "#cat -> 0, ant -> 1 and bird -> 2\n",
    "image_data_binary = { 'y_true': [0, 1, 0, 0, 1, 2],\n",
    "                      'y_pred': [1, 1, 0, 0, 1, 0]\n",
    "                     }"
   ]
  },
  {
   "cell_type": "code",
   "execution_count": 14,
   "id": "8d3e19b6-4fa0-4b01-af2a-ac4972763093",
   "metadata": {},
   "outputs": [],
   "source": [
    "cm = confusion_matrix(image_data_binary['y_true'], image_data_binary['y_pred'], labels=[1, 2, 0])"
   ]
  },
  {
   "cell_type": "code",
   "execution_count": 15,
   "id": "8bb125e6-8e18-4be6-a4cd-05fb17cb9a8d",
   "metadata": {},
   "outputs": [
    {
     "name": "stdout",
     "output_type": "stream",
     "text": [
      "Confusion Matrix: \n",
      "\n",
      "[[2 0 0]\n",
      " [0 0 1]\n",
      " [1 0 2]]\n"
     ]
    }
   ],
   "source": [
    "print(\"Confusion Matrix: \\n\")\n",
    "print(cm)"
   ]
  },
  {
   "cell_type": "code",
   "execution_count": 16,
   "id": "5654369a-87e3-4f52-aba6-b2c0f7f0f2e0",
   "metadata": {},
   "outputs": [],
   "source": [
    "#mapping and label order\n",
    "label_mapping = {0: \"cat\", 1: \"ant\", 2: \"bird\"}\n",
    "labels = [1, 2, 0]\n",
    "cm = confusion_matrix(image_data_binary['y_true'], image_data_binary['y_pred'], labels=labels)"
   ]
  },
  {
   "cell_type": "code",
   "execution_count": 17,
   "id": "e4fb2f4d-7020-4b9d-b589-33842178813f",
   "metadata": {},
   "outputs": [],
   "source": [
    "#dictionaries to hold each class\n",
    "metrics = {label_mapping[label]: {'TP': 0, 'FP': 0, 'FN': 0, 'TN': 0} for label in labels}\n",
    "#TP, FP, FN, TN \n",
    "for i, label in enumerate(labels):\n",
    "    TP = cm[i, i]\n",
    "    FN = sum(cm[i, :]) - TP\n",
    "    FP = sum(cm[:, i]) - TP\n",
    "    TN = cm.sum() - (TP + FP + FN)\n",
    "\n",
    "    metrics[label_mapping[label]]['TP'] = TP\n",
    "    metrics[label_mapping[label]]['FN'] = FN\n",
    "    metrics[label_mapping[label]]['FP'] = FP\n",
    "    metrics[label_mapping[label]]['TN'] = TN"
   ]
  },
  {
   "cell_type": "markdown",
   "id": "c88f3dfc-e074-45d2-8833-56f657a74ae9",
   "metadata": {},
   "source": [
    "| True Class (y_true) | Predicted Class (y_pred) | Outcome  |\n",
    "|---------------------|---------------------------|----------|\n",
    "|         cat         |            ant            | Incorrect |\n",
    "|         ant         |            ant            | Correct  |\n",
    "|         cat         |            cat            | Correct  |\n",
    "|         cat         |            cat            | Correct  |\n",
    "|         ant         |            ant            | Correct  |\n",
    "|         bird        |            cat            | Incorrect |\n"
   ]
  },
  {
   "cell_type": "code",
   "execution_count": 18,
   "id": "7da76aa7-9de8-47be-b717-984d30ef1da3",
   "metadata": {},
   "outputs": [
    {
     "data": {
      "text/html": [
       "<div>\n",
       "<style scoped>\n",
       "    .dataframe tbody tr th:only-of-type {\n",
       "        vertical-align: middle;\n",
       "    }\n",
       "\n",
       "    .dataframe tbody tr th {\n",
       "        vertical-align: top;\n",
       "    }\n",
       "\n",
       "    .dataframe thead th {\n",
       "        text-align: right;\n",
       "    }\n",
       "</style>\n",
       "<table border=\"1\" class=\"dataframe\">\n",
       "  <thead>\n",
       "    <tr style=\"text-align: right;\">\n",
       "      <th></th>\n",
       "      <th>TP</th>\n",
       "      <th>FP</th>\n",
       "      <th>FN</th>\n",
       "      <th>TN</th>\n",
       "    </tr>\n",
       "  </thead>\n",
       "  <tbody>\n",
       "    <tr>\n",
       "      <th>ant</th>\n",
       "      <td>2</td>\n",
       "      <td>1</td>\n",
       "      <td>0</td>\n",
       "      <td>3</td>\n",
       "    </tr>\n",
       "    <tr>\n",
       "      <th>bird</th>\n",
       "      <td>0</td>\n",
       "      <td>0</td>\n",
       "      <td>1</td>\n",
       "      <td>5</td>\n",
       "    </tr>\n",
       "    <tr>\n",
       "      <th>cat</th>\n",
       "      <td>2</td>\n",
       "      <td>1</td>\n",
       "      <td>1</td>\n",
       "      <td>2</td>\n",
       "    </tr>\n",
       "  </tbody>\n",
       "</table>\n",
       "</div>"
      ],
      "text/plain": [
       "      TP  FP  FN  TN\n",
       "ant    2   1   0   3\n",
       "bird   0   0   1   5\n",
       "cat    2   1   1   2"
      ]
     },
     "execution_count": 18,
     "metadata": {},
     "output_type": "execute_result"
    }
   ],
   "source": [
    "cm_result = pd.DataFrame(metrics).T\n",
    "cm_result"
   ]
  },
  {
   "cell_type": "markdown",
   "id": "7e4abee5-4ba4-486c-8942-5b76bb62758a",
   "metadata": {},
   "source": [
    "- [Semi-supervised learning on digits with Label Propagation](https://scikit-learn.org/stable/auto_examples/semi_supervised/plot_label_propagation_digits.html#sphx-glr-auto-examples-semi-supervised-plot-label-propagation-digits-py)\n",
    "- [ConfusionMatrixDisplay documentation](https://scikit-learn.org/stable/modules/generated/sklearn.metrics.ConfusionMatrixDisplay.html)\n",
    "- [confusion_matrix function documentation](https://scikit-learn.org/stable/modules/generated/sklearn.metrics.confusion_matrix.html)\n"
   ]
  }
 ],
 "metadata": {
  "kernelspec": {
   "display_name": "Python 3 (ipykernel)",
   "language": "python",
   "name": "python3"
  },
  "language_info": {
   "codemirror_mode": {
    "name": "ipython",
    "version": 3
   },
   "file_extension": ".py",
   "mimetype": "text/x-python",
   "name": "python",
   "nbconvert_exporter": "python",
   "pygments_lexer": "ipython3",
   "version": "3.11.7"
  }
 },
 "nbformat": 4,
 "nbformat_minor": 5
}
