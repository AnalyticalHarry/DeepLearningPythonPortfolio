{
 "cells": [
  {
   "cell_type": "markdown",
   "id": "99cbb273-a59f-45fc-8b47-84b46fbbfa58",
   "metadata": {},
   "source": [
    "<div style=\"text-align:center;\">\n",
    "    <h2 style=\"display:inline-block;\">Building Neural Network from Scratch for Customer Data Classification and Analysis</h2>\n",
    "</di"
   ]
  },
  {
   "attachments": {},
   "cell_type": "markdown",
   "id": "05296e8a-067e-4898-9417-64bf24105c98",
   "metadata": {},
   "source": [
    "# $$ A^{[3]} = \\sigma(W^{[3]}(\\text{ReLU}(W^{[2]}(\\text{ReLU}(W^{[1]}X + b^{[1]})) + b^{[2]})) + b^{[3]}) $$"
   ]
  },
  {
   "cell_type": "markdown",
   "id": "af45a993-7c59-4bbf-867d-fa3bfa0b1dbf",
   "metadata": {},
   "source": [
    "### Hemant Thapa"
   ]
  },
  {
   "cell_type": "markdown",
   "id": "f6b636d9-15c6-470b-8e53-635af1f5dd3a",
   "metadata": {},
   "source": [
    "1. **Initialization of Parameters**:\r\n",
    "   - Weight Initialization:\r\n",
    "     - Weight Initialization for Layer 1:  \r\n",
    "       - Weight Matrix: $ W^{[1]} $ initialized using He Initialization\r\n",
    "       - Bias Vector: $ b^{[1]} $ initialized as zeros\r\n",
    "     - Weight Initialization for Layer 2:  \r\n",
    "       - Weight Matrix: $ W^{[2]} $ initialized using He Initialization\r\n",
    "       - Bias Vector: $ b^{[2]} $ initialized as zeros\r\n",
    "     - Weight Initialization for Layer 3 (Output Layer):  \r\n",
    "       - Weight Matrix: $ W^{[3]} $ initialized using He Initialization\r\n",
    "       - Bias Vector: $ b^{[3]} $ initialized as zeros\r\n",
    "\r\n",
    "2. **Activation Functions**:\r\n",
    "   - Sigmoid Activation Function:  \r\n",
    "     - $ \\sigma(z) = \\frac{1}{1 + e^{-z}} $\r\n",
    "   - ReLU Activation Function:\r\n",
    "     - $ \\text{ReLU}(z) = \\max(0, z) $\r\n",
    "\r\n",
    "3. **Forward Propagation**:\r\n",
    "   - Input Data: $ X $\r\n",
    "   - Layer 1:\r\n",
    "     - Pre-activation: $ Z^{[1]} = W^{[1]}X + b^{[1]} $\r\n",
    "     - Activation: $ A^{[1]} = \\text{ReLU}(Z^{[1]}) $\r\n",
    "   - Layer 2:\r\n",
    "     - Pre-activation: $ Z^{[2]} = W^{[2]}A^{[1]} + b^{[2]} $\r\n",
    "     - Activation: $ A^{[2]} = \\text{ReLU}(Z^{[2]}) $\r\n",
    "   - Layer 3 (Output Layer):\r\n",
    "     - Pre-activation: $ Z^{[3]} = W^{[3]}A^{[2]} + b^{[3]} $\r\n",
    "     - Activation: $ A^{[3]} = \\sigma(Z^{[3]}) $\r\n",
    "\r\n",
    "4. **Loss Calculation**:\r\n",
    "   - Cross-Entropy Loss (Binary Classification):\r\n",
    "     - $ \\mathcal{L}(A^{[3]}, Y) = -\\frac{1}{m} \\sum_{i=1}^{m} \\left( Y \\log(A^{[3]}) + (1 - Y) \\log(1 - A^{[3]}) \\right) $\r\n",
    "     - Where $ m $ is the number of samples, $ Y $ is the true label, and $ A^{[3]} $ is the predicted output.\r\n",
    "\r\n",
    "5. **Backward Propagation**:\r\n",
    "   - Gradients with Respect to Layer 3:\r\n",
    "     - $ \\frac{\\partial \\mathcal{L}}{\\partial Z^{[3]}} = A^{[3]} - Y $\r\n",
    "     - $ \\frac{\\partial \\mathcal{L}}{\\partial W^{[3]}} = \\frac{1}{m} \\frac{\\partial \\mathcal{L}}{\\partial Z^{[3]}} A^{[2]T} $\r\n",
    "     - $ \\frac{\\partial \\mathcal{L}}{\\partial b^{[3]}} = \\frac{1}{m} \\sum_{i=1}^{m} \\frac{\\partial \\mathcal{L}}{\\partial Z^{[3]}} $\r\n",
    "\r\n",
    "   - Gradients with Respect to Layer 2 (Using ReLU Derivative):\r\n",
    "     - $ \\frac{\\partial \\mathcal{L}}{\\partial Z^{[2]}} = \\frac{\\partial \\mathcal{L}}{\\partial A^{[2]}} \\odot \\text{ReLU}'(Z^{[2]}) $\r\n",
    "     - $ \\frac{\\partial \\mathcal{L}}{\\partial W^{[2]}} = \\frac{1}{m} \\frac{\\partial \\mathcal{L}}{\\partial Z^{[2]}} A^{[1]T} $\r\n",
    "     - $ \\frac{\\partial \\mathcal{L}}{\\partial b^{[2]}} = \\frac{1}{m} \\sum_{i=1}^{m} \\frac{\\partial \\mathcal{L}}{\\partial Z^{[2]}} $\r\n",
    "\r\n",
    "   - Gradients with Respect to Layer 1 (Using ReLU Derivative):\r\n",
    "     - $ \\frac{\\partial \\mathcal{L}}{\\partial Z^{[1]}} = \\frac{\\partial \\mathcal{L}}{\\partial A^{[1]}} \\odot \\text{ReLU}'(Z^{[1]}) $\r\n",
    "     - $ \\frac{\\partial \\mathcal{L}}{\\partial W^{[1]}} = \\frac{1}{m} \\frac{\\partial \\mathcal{L}}{\\partial Z^{[1]}} X^T $\r\n",
    "     - $ \\frac{\\partial \\mathcal{L}}{\\partial b^{[1]}} = \\frac{1}{m} \\sum_{i=1}^{m}\n",
    "6. **Update Parameters**:\r\n",
    "   - Parameters are updated using gradient descent or other optimization algorithms:\r\n",
    "     - Layer 1:\r\n",
    "       - Weight Update: $ W^{[1]} \\leftarrow W^{[1]} - \\alpha \\cdot \\frac{\\partial \\mathcal{L}}{\\partial W^{[1]}} $\r\n",
    "       - Bias Update: $ b^{[1]} \\leftarrow b^{[1]} - \\alpha \\cdot \\frac{\\partial \\mathcal{L}}{\\partial b^{[1]}} $\r\n",
    "     - Layer 2:\r\n",
    "       - Weight Update: $ W^{[2]} \\leftarrow W^{[2]} - \\alpha \\cdot \\frac{\\partial \\mathcal{L}}{\\partial W^{[2]}} $\r\n",
    "       - Bias Update: $ b^{[2]} \\leftarrow b^{[2]} - \\alpha \\cdot \\frac{\\partial \\mathcal{L}}{\\partial b^{[2]}} $\r\n",
    "     - Layer 3 (Output Layer):\r\n",
    "       - Weight Update: $ W^{[3]} \\leftarrow W^{[3]} - \\alpha \\cdot \\frac{\\partial \\mathcal{L}}{\\partial W^{[3]}} $\r\n",
    "       - Bias Update: $ b^{[3]} \\leftarrow b^{[3]} - \\alpha \\cdot \\frac{\\partial \\mathcal{L}}{\\partial b^{[3]}} $\r\n",
    "\r\n",
    "7. **Training Loop**:\r\n",
    "   - The above steps (1-6) are typically repeated iteratively for a number of epochs to train the neural network.\r\n",
    "   - In each epoch, the forward and backward propagation steps are performed on batches of data, and parameters are updated accordingly.\r\n",
    "\r\n",
    "8. **Prediction**:\r\n",
    "   - After training, the neural network can be used to make predictions:\r\n",
    "     - Given new input data $ X_{\\text{new}} $, perform forward propagation to obtain $ A^{[3]} $, which is thepredicted output.\r\n",
    "predicted output.\r\n",
    " \\frac{\\partial \\mathcal{L}}{\\partial Z^{[1]}} $\r\n"
   ]
  },
  {
   "cell_type": "markdown",
   "id": "04a3c7f5-7a69-4854-8061-5af8a6de07be",
   "metadata": {},
   "source": [
    "#### Table of Contents\r\n",
    "1. [Import Libraries](#Import-Libraries)\r\n",
    "2. [Loading DataSet](#Loading-DataSet)\r\n",
    "3. [Feature Engineering](#Feature-Engineering)\r\n",
    "4. [He Initialisation](#He-Initialisation)\r\n",
    "5. [Activation Function](#Activation-Function)\r\n",
    "    - 5.1 [Sigmoid Activation Function](#Sigmoid-Activation-Function)\r\n",
    "    - 5.2 [ReLU Activation Function](#ReLU-Activation-Function)\r\n",
    "6. [Forward Propagation](#Forward-Propagation)\r\n",
    "7. [Computing Loss](#Computing-Loss)\r\n",
    "8. [Backward Propagation](#Backward-Propagation)\r\n",
    "9. [Update Parameters](#Update-Parameters)\r\n",
    "10. [Training Model](#Training-Model)\r\n",
    "11. [Splitting Data into Train and Test](#Splitting-Data-into-Train-and-Test)\r\n",
    "12. [Loss and Accuracy](#Loss-and-Accuracy)\r\n",
    "13. [Predictive Analysis & Decision Boundary](#Predictive-Analysis-&-Decision-Boundary)\r\n",
    "14. [Model Evaluation & Classification Report](#Model-Evaluation-&-Classiication-Report)\r\n"
   ]
  },
  {
   "cell_type": "markdown",
   "id": "b50f320a-87b8-4585-bc41-7581e5ae43a8",
   "metadata": {},
   "source": [
    "#### 1. Import Libraries"
   ]
  },
  {
   "cell_type": "code",
   "execution_count": 1,
   "id": "302838cd-ab0f-40d5-b7c6-cec35017309a",
   "metadata": {},
   "outputs": [],
   "source": [
    "import pandas as pd\n",
    "import numpy as np\n",
    "import matplotlib.pyplot as plt\n",
    "from sklearn.model_selection import train_test_split"
   ]
  },
  {
   "cell_type": "markdown",
   "id": "789a83bb-8ee2-4a8b-bb4d-12b7d779dfec",
   "metadata": {},
   "source": [
    "#### 2. Loading DataSet"
   ]
  },
  {
   "cell_type": "code",
   "execution_count": 2,
   "id": "26649977-c8bb-4235-887c-453e267c1e4b",
   "metadata": {},
   "outputs": [
    {
     "data": {
      "text/html": [
       "<div>\n",
       "<style scoped>\n",
       "    .dataframe tbody tr th:only-of-type {\n",
       "        vertical-align: middle;\n",
       "    }\n",
       "\n",
       "    .dataframe tbody tr th {\n",
       "        vertical-align: top;\n",
       "    }\n",
       "\n",
       "    .dataframe thead th {\n",
       "        text-align: right;\n",
       "    }\n",
       "</style>\n",
       "<table border=\"1\" class=\"dataframe\">\n",
       "  <thead>\n",
       "    <tr style=\"text-align: right;\">\n",
       "      <th></th>\n",
       "      <th>User ID</th>\n",
       "      <th>Gender</th>\n",
       "      <th>Age</th>\n",
       "      <th>AnnualSalary</th>\n",
       "      <th>Purchased</th>\n",
       "    </tr>\n",
       "  </thead>\n",
       "  <tbody>\n",
       "    <tr>\n",
       "      <th>0</th>\n",
       "      <td>385</td>\n",
       "      <td>Male</td>\n",
       "      <td>35</td>\n",
       "      <td>20000</td>\n",
       "      <td>0</td>\n",
       "    </tr>\n",
       "    <tr>\n",
       "      <th>1</th>\n",
       "      <td>681</td>\n",
       "      <td>Male</td>\n",
       "      <td>40</td>\n",
       "      <td>43500</td>\n",
       "      <td>0</td>\n",
       "    </tr>\n",
       "    <tr>\n",
       "      <th>2</th>\n",
       "      <td>353</td>\n",
       "      <td>Male</td>\n",
       "      <td>49</td>\n",
       "      <td>74000</td>\n",
       "      <td>0</td>\n",
       "    </tr>\n",
       "    <tr>\n",
       "      <th>3</th>\n",
       "      <td>895</td>\n",
       "      <td>Male</td>\n",
       "      <td>40</td>\n",
       "      <td>107500</td>\n",
       "      <td>1</td>\n",
       "    </tr>\n",
       "    <tr>\n",
       "      <th>4</th>\n",
       "      <td>661</td>\n",
       "      <td>Male</td>\n",
       "      <td>25</td>\n",
       "      <td>79000</td>\n",
       "      <td>0</td>\n",
       "    </tr>\n",
       "  </tbody>\n",
       "</table>\n",
       "</div>"
      ],
      "text/plain": [
       "   User ID Gender  Age  AnnualSalary  Purchased\n",
       "0      385   Male   35         20000          0\n",
       "1      681   Male   40         43500          0\n",
       "2      353   Male   49         74000          0\n",
       "3      895   Male   40        107500          1\n",
       "4      661   Male   25         79000          0"
      ]
     },
     "execution_count": 2,
     "metadata": {},
     "output_type": "execute_result"
    }
   ],
   "source": [
    "df = pd.read_csv('customer_data.csv')\n",
    "df[:5]"
   ]
  },
  {
   "cell_type": "code",
   "execution_count": 3,
   "id": "eba1d06c-8285-4765-9f63-9056de84944d",
   "metadata": {},
   "outputs": [
    {
     "data": {
      "text/plain": [
       "(1000, 5)"
      ]
     },
     "execution_count": 3,
     "metadata": {},
     "output_type": "execute_result"
    }
   ],
   "source": [
    "df.shape"
   ]
  },
  {
   "cell_type": "code",
   "execution_count": 4,
   "id": "f5b45119-f6cd-4899-8d27-31008ade732e",
   "metadata": {},
   "outputs": [
    {
     "data": {
      "text/plain": [
       "User ID         0\n",
       "Gender          0\n",
       "Age             0\n",
       "AnnualSalary    0\n",
       "Purchased       0\n",
       "dtype: int64"
      ]
     },
     "execution_count": 4,
     "metadata": {},
     "output_type": "execute_result"
    }
   ],
   "source": [
    "df.isnull().sum()"
   ]
  },
  {
   "cell_type": "code",
   "execution_count": 5,
   "id": "57fa113c-5644-46f2-aed5-eb2add08a24d",
   "metadata": {},
   "outputs": [
    {
     "data": {
      "text/plain": [
       "User ID          int64\n",
       "Gender          object\n",
       "Age              int64\n",
       "AnnualSalary     int64\n",
       "Purchased        int64\n",
       "dtype: object"
      ]
     },
     "execution_count": 5,
     "metadata": {},
     "output_type": "execute_result"
    }
   ],
   "source": [
    "df.dtypes"
   ]
  },
  {
   "cell_type": "code",
   "execution_count": 6,
   "id": "87f67107-c03b-4699-8e54-42d0f0ae69de",
   "metadata": {},
   "outputs": [
    {
     "data": {
      "text/html": [
       "<div>\n",
       "<style scoped>\n",
       "    .dataframe tbody tr th:only-of-type {\n",
       "        vertical-align: middle;\n",
       "    }\n",
       "\n",
       "    .dataframe tbody tr th {\n",
       "        vertical-align: top;\n",
       "    }\n",
       "\n",
       "    .dataframe thead th {\n",
       "        text-align: right;\n",
       "    }\n",
       "</style>\n",
       "<table border=\"1\" class=\"dataframe\">\n",
       "  <thead>\n",
       "    <tr style=\"text-align: right;\">\n",
       "      <th></th>\n",
       "      <th>User ID</th>\n",
       "      <th>Age</th>\n",
       "      <th>AnnualSalary</th>\n",
       "      <th>Purchased</th>\n",
       "    </tr>\n",
       "  </thead>\n",
       "  <tbody>\n",
       "    <tr>\n",
       "      <th>count</th>\n",
       "      <td>1000.000000</td>\n",
       "      <td>1000.000000</td>\n",
       "      <td>1000.000000</td>\n",
       "      <td>1000.000000</td>\n",
       "    </tr>\n",
       "    <tr>\n",
       "      <th>mean</th>\n",
       "      <td>500.500000</td>\n",
       "      <td>40.106000</td>\n",
       "      <td>72689.000000</td>\n",
       "      <td>0.402000</td>\n",
       "    </tr>\n",
       "    <tr>\n",
       "      <th>std</th>\n",
       "      <td>288.819436</td>\n",
       "      <td>10.707073</td>\n",
       "      <td>34488.341867</td>\n",
       "      <td>0.490547</td>\n",
       "    </tr>\n",
       "    <tr>\n",
       "      <th>min</th>\n",
       "      <td>1.000000</td>\n",
       "      <td>18.000000</td>\n",
       "      <td>15000.000000</td>\n",
       "      <td>0.000000</td>\n",
       "    </tr>\n",
       "    <tr>\n",
       "      <th>25%</th>\n",
       "      <td>250.750000</td>\n",
       "      <td>32.000000</td>\n",
       "      <td>46375.000000</td>\n",
       "      <td>0.000000</td>\n",
       "    </tr>\n",
       "    <tr>\n",
       "      <th>50%</th>\n",
       "      <td>500.500000</td>\n",
       "      <td>40.000000</td>\n",
       "      <td>72000.000000</td>\n",
       "      <td>0.000000</td>\n",
       "    </tr>\n",
       "    <tr>\n",
       "      <th>75%</th>\n",
       "      <td>750.250000</td>\n",
       "      <td>48.000000</td>\n",
       "      <td>90000.000000</td>\n",
       "      <td>1.000000</td>\n",
       "    </tr>\n",
       "    <tr>\n",
       "      <th>max</th>\n",
       "      <td>1000.000000</td>\n",
       "      <td>63.000000</td>\n",
       "      <td>152500.000000</td>\n",
       "      <td>1.000000</td>\n",
       "    </tr>\n",
       "  </tbody>\n",
       "</table>\n",
       "</div>"
      ],
      "text/plain": [
       "           User ID          Age   AnnualSalary    Purchased\n",
       "count  1000.000000  1000.000000    1000.000000  1000.000000\n",
       "mean    500.500000    40.106000   72689.000000     0.402000\n",
       "std     288.819436    10.707073   34488.341867     0.490547\n",
       "min       1.000000    18.000000   15000.000000     0.000000\n",
       "25%     250.750000    32.000000   46375.000000     0.000000\n",
       "50%     500.500000    40.000000   72000.000000     0.000000\n",
       "75%     750.250000    48.000000   90000.000000     1.000000\n",
       "max    1000.000000    63.000000  152500.000000     1.000000"
      ]
     },
     "execution_count": 6,
     "metadata": {},
     "output_type": "execute_result"
    }
   ],
   "source": [
    "df.describe()"
   ]
  },
  {
   "cell_type": "markdown",
   "id": "aac0aeb5-53a3-4a9b-8b48-cde97e01181b",
   "metadata": {},
   "source": [
    "#### 3. Feature Engineering "
   ]
  },
  {
   "cell_type": "code",
   "execution_count": 7,
   "id": "caa2567e-5c24-4fb2-abd2-57a52fe09088",
   "metadata": {},
   "outputs": [],
   "source": [
    "#feature selection\n",
    "#value reshaping into two dimension\n",
    "X = df.iloc[:, 2:4].values.reshape(-1, 2)"
   ]
  },
  {
   "cell_type": "code",
   "execution_count": 8,
   "id": "1f724097-7ef0-43bd-8c01-c06252723997",
   "metadata": {},
   "outputs": [
    {
     "data": {
      "text/plain": [
       "array([[    35,  20000],\n",
       "       [    40,  43500],\n",
       "       [    49,  74000],\n",
       "       [    40, 107500],\n",
       "       [    25,  79000]], dtype=int64)"
      ]
     },
     "execution_count": 8,
     "metadata": {},
     "output_type": "execute_result"
    }
   ],
   "source": [
    "X[:5]"
   ]
  },
  {
   "cell_type": "code",
   "execution_count": 9,
   "id": "e83b360c-abf8-4603-b932-dd29c07cd6d7",
   "metadata": {},
   "outputs": [
    {
     "data": {
      "text/plain": [
       "array([[-0.47711966, -1.52849808],\n",
       "       [-0.00990495, -0.84676745],\n",
       "       [ 0.83108153,  0.03803187],\n",
       "       [-0.00990495,  1.00986063],\n",
       "       [-1.41154909,  0.18308093]])"
      ]
     },
     "execution_count": 9,
     "metadata": {},
     "output_type": "execute_result"
    }
   ],
   "source": [
    "#standard scaler \n",
    "#(data points - data means) / data standard deviation\n",
    "X = (X - np.mean(X, axis=0)) / np.std(X, axis=0)\n",
    "X[:5]"
   ]
  },
  {
   "cell_type": "code",
   "execution_count": 10,
   "id": "582b42c5-b8f6-46e3-96a9-b26c8bb56afe",
   "metadata": {},
   "outputs": [
    {
     "data": {
      "text/plain": [
       "array([0, 0, 0, 1, 0], dtype=int64)"
      ]
     },
     "execution_count": 10,
     "metadata": {},
     "output_type": "execute_result"
    }
   ],
   "source": [
    "#target\n",
    "y = df.iloc[:, 4].values\n",
    "y[:5]"
   ]
  },
  {
   "cell_type": "code",
   "execution_count": 11,
   "id": "7c6029e6-bc16-4498-9a35-2038dc88dea1",
   "metadata": {},
   "outputs": [
    {
     "name": "stdout",
     "output_type": "stream",
     "text": [
      "Number of dimensions: 2\n",
      "Number of dimensions: 1\n"
     ]
    }
   ],
   "source": [
    "#checking dimension \n",
    "print(\"Number of dimensions:\", X.ndim)\n",
    "print(\"Number of dimensions:\", y.ndim)"
   ]
  },
  {
   "cell_type": "code",
   "execution_count": 12,
   "id": "161c0a8e-427f-4215-bb2d-1b291b583a12",
   "metadata": {},
   "outputs": [],
   "source": [
    "# def initialise_parameters(X_neurons, hiddenLayer_neuron_1, hiddenLayer_neuron_2, y_neurons):\n",
    "#     np.random.seed(2)\n",
    "#     parameters = {\n",
    "#         \"w1\": np.random.randn(hiddenLayer_neuron_1, X_neurons) * 0.01,\n",
    "#         \"b1\": np.zeros((hiddenLayer_neuron_1, 1)),\n",
    "#         \"w2\": np.random.randn(hiddenLayer_neuron_2, hiddenLayer_neuron_1) * 0.01,\n",
    "#         \"b2\": np.zeros((hiddenLayer_neuron_2, 1)),\n",
    "#         \"w3\": np.random.randn(y_neurons, hiddenLayer_neuron_2) * 0.01,\n",
    "#         \"b3\": np.zeros((y_neurons, 1))\n",
    "#     }\n",
    "#     return parameters"
   ]
  },
  {
   "cell_type": "markdown",
   "id": "169f55be-a5e5-4381-930b-582fe515ef86",
   "metadata": {},
   "source": [
    "#### 4. He Initialisation "
   ]
  },
  {
   "cell_type": "markdown",
   "id": "ed448d0f-8fe8-45cc-9b01-1290ecaa9d4c",
   "metadata": {},
   "source": [
    "\n",
    "\n",
    "$$ \\text{He Initialization} = \\sqrt{\\frac{2}{n}} $$\n",
    "\n",
    "- $ n $ is the number of input units in the layer.\n",
    "\n",
    "This initialization method helps in preventing the vanishing or exploding gradient problems that can occur during training, especially in deep neural networks.\n"
   ]
  },
  {
   "cell_type": "code",
   "execution_count": 13,
   "id": "84a9b63e-117f-435d-9317-97732274ffa0",
   "metadata": {},
   "outputs": [],
   "source": [
    "#function for he initialisation\n",
    "def initialise_parameters_he(X_neurons, hiddenLayer_neuron_1, hiddenLayer_neuron_2, y_neurons):\n",
    "    #reproducible results\n",
    "    np.random.seed(2)  \n",
    "    parameters = {\n",
    "        #input layer\n",
    "        #weight and bias for layer one \n",
    "        \"w1\": np.random.randn(hiddenLayer_neuron_1, X_neurons) * np.sqrt(2. / X_neurons),\n",
    "        \"b1\": np.zeros((hiddenLayer_neuron_1, 1)),\n",
    "        #hidden layer\n",
    "        #weight and bias for layer two\n",
    "        \"w2\": np.random.randn(hiddenLayer_neuron_2, hiddenLayer_neuron_1) * np.sqrt(2. / hiddenLayer_neuron_1),\n",
    "        \"b2\": np.zeros((hiddenLayer_neuron_2, 1)),\n",
    "        #output layer\n",
    "        #weight and bias for layer three\n",
    "        \"w3\": np.random.randn(y_neurons, hiddenLayer_neuron_2) * np.sqrt(2. / hiddenLayer_neuron_2),\n",
    "        \"b3\": np.zeros((y_neurons, 1))\n",
    "    }\n",
    "    #returning parameters\n",
    "    return parameters"
   ]
  },
  {
   "cell_type": "code",
   "execution_count": 14,
   "id": "75eef294-dce3-43cb-9aa8-471897c91b12",
   "metadata": {},
   "outputs": [
    {
     "name": "stdout",
     "output_type": "stream",
     "text": [
      "Input shape: 2\n"
     ]
    }
   ],
   "source": [
    "#input shape, two rows for features\n",
    "X_neurons = X.shape[1]\n",
    "print(f\"Input shape: {X_neurons}\")"
   ]
  },
  {
   "cell_type": "code",
   "execution_count": 15,
   "id": "98cebaf8-b06f-44c8-ba73-a32a40dc44f7",
   "metadata": {},
   "outputs": [
    {
     "name": "stdout",
     "output_type": "stream",
     "text": [
      "{'w1': array([[-0.41675785, -0.05626683],\n",
      "       [-2.1361961 ,  1.64027081]]), 'b1': array([[0.],\n",
      "       [0.]]), 'w2': array([[-1.79343559, -0.84174737],\n",
      "       [ 0.50288142, -1.24528809]]), 'b2': array([[0.],\n",
      "       [0.]]), 'w3': array([[-1.05795222, -0.90900761]]), 'b3': array([[0.]])}\n"
     ]
    }
   ],
   "source": [
    "#calling function to check parameters\n",
    "parameters = initialise_parameters_he(X_neurons, 2, 2, 1)\n",
    "print(parameters)"
   ]
  },
  {
   "cell_type": "markdown",
   "id": "7e160829-8c9e-4317-8b18-3ba776374bf0",
   "metadata": {},
   "source": [
    "#### 5. Activation Function "
   ]
  },
  {
   "cell_type": "markdown",
   "id": "49f430c4-7d23-464d-acec-dc7151530f0b",
   "metadata": {},
   "source": [
    "##### Sigmoid Activation Function\n",
    "\n",
    "The sigmoid activation function, also known as the logistic function, is a widely used activation function in neural networks. It takes an input and maps it to a value between 0 and 1, making it suitable for binary classification tasks and ensuring that the output is in the range of probabilities. The sigmoid function is defined as:\n",
    "\n",
    "$$ \\text{Sigmoid}(x) = \\frac{1}{1 + e^{-x}} $$\n",
    "\n",
    "- $ x $  is the input to the function.\n",
    "\n",
    "The sigmoid function has a smooth, S-shaped curve, but it suffers from the vanishing gradient problem, which can make training deep networks challenging.\n",
    "\n",
    "##### ReLU (Rectified Linear Unit) Activation Function\n",
    "\n",
    "The ReLU activation function is another widely used activation function, especially in deep neural networks. It introduces non-linearity by mapping all negative values to zero and leaving positive values unchanged. The ReLU function is defined as:\n",
    "\n",
    "$$ \\text{ReLU}(x) = \\max(0, x) $$\n",
    "\n",
    "- $ x $ is the input to the function.\n",
    "\n",
    "ReLU has become popular because it helps mitigate the vanishing gradient problem, allowing for faster convergence during training. However, it's important to note that it may suffer from the dying ReLU problem, where some neurons become inactive and never activate during training.\n"
   ]
  },
  {
   "cell_type": "code",
   "execution_count": 16,
   "id": "e966b738-d561-4cb5-8011-47607918da47",
   "metadata": {},
   "outputs": [],
   "source": [
    "#activation functions\n",
    "#sigmoid \n",
    "def sigmoid(z):\n",
    "    return 1/ (1 +  np.exp(-z))\n",
    "#relu \n",
    "def relu(z):\n",
    "    return np.maximum(0, z)"
   ]
  },
  {
   "cell_type": "markdown",
   "id": "6a347368-9c9a-42e1-a1a2-aa330b971c97",
   "metadata": {},
   "source": [
    "#### 6. Forward Propagation \n",
    "\n",
    "Forward propagation is the process by which input data is passed through a neural network to compute the network's output or predictions. It involves several steps, including the calculation of weighted sums and the application of activation functions. \n",
    "\n",
    "1. **Input Layer**: The first layer of the neural network is the input layer. It receives the raw input data, which could be features from a dataset or any other form of input.\n",
    "\n",
    "2. **Weighted Sum (Linear Transformation)**: For each neuron in the subsequent layers (hidden and output layers), a weighted sum of the inputs is calculated. This is done by multiplying the input values by their corresponding weights and summing up these products. Mathematically, for a neuron $i$ in layer $j$, the weighted sum ($z_{ij}$) is computed as:\n",
    "\n",
    "   $$ z_{ij} = \\sum_{k=1}^{n} (w_{ijk} \\cdot a_{(j-1)k}) + b_{ij} $$\n",
    "\n",
    "\n",
    "- $w_{ijk}$ is the weight of the connection between neuron $i$ in layer $j$ and neuron $k$ in layer $j-1$.\n",
    "- $a_{(j-1)k}$ is the output of neuron $k$ in layer $j-1$.\n",
    "- $b_{ij}$ is the bias term associated with neuron $i$ in layer $j$.\n",
    "     \n",
    "\n",
    "3. **Activation Function**: After calculating the weighted sum, an activation function is applied element-wise to the result. Common activation functions include the sigmoid, ReLU, and others. The choice of activation function depends on the network architecture and problem.\n",
    "\n",
    "   $$ a_{ij} = \\text{Activation}(z_{ij}) $$\n",
    "\n",
    "4. **Propagation**: The output of each neuron in one layer becomes the input to neurons in the next layer. This process is repeated for each layer until the output layer is reached.\n",
    "\n",
    "5. **Output Layer**: The final layer of the neural network is the output layer. Depending on the problem, the output layer may use a specific activation function (e.g., sigmoid for binary classification, softmax for multiclass classification) to produce the network's final predictions.\n",
    "\n",
    "6. **Output**: The output of the last layer represents the network's prediction or output for the given input data. It can be used to make decisions, compute loss, and update the network's weights during the training process.\n"
   ]
  },
  {
   "cell_type": "code",
   "execution_count": 17,
   "id": "077e9006-3f33-4ba6-a6b4-4d6e01f9bfd6",
   "metadata": {},
   "outputs": [],
   "source": [
    "#forward propagation \n",
    "def forward_propagation(X, parameters):\n",
    "    #transpose feature matrix to match the shape expected by the neural network\n",
    "    X = X.T\n",
    "    #declaring local variable for weights and bias\n",
    "    #layer 1, layer 2 and layer 3 parameters (weight and bias)\n",
    "    weight_1, bias_1 = parameters['w1'], parameters['b1']\n",
    "    weight_2, bias_2 = parameters['w2'], parameters['b2']\n",
    "    weight_3, bias_3 = parameters['w3'], parameters['b3']\n",
    "    \n",
    "    #pre-activation or Z1 value for the first layer using the dot product of weights and input plus the bias\n",
    "    #applying the ReLU activation function to the pre-activation values for layer 1\n",
    "    pre_activation_layer_1 = np.dot(weight_1, X) + bias_1\n",
    "    activation_function_layer_1 = relu(pre_activation_layer_1)\n",
    "    #pre-activation or Z2 value for the second layer using the dot product of weights and input plus the bias\n",
    "    #applying the ReLU activation function to the pre-activation values for layer 2\n",
    "    pre_activation_layer_2 = np.dot(weight_2, activation_function_layer_1) + bias_2\n",
    "    activation_function_layer_2 = relu(pre_activation_layer_2)\n",
    "    #pre-activation or Z3 value for the second layer using the dot product of weights and input plus the bias\n",
    "    #applying the sigmoid activation function to the pre-activation values for layer 3\n",
    "    pre_activation_layer_3 = np.dot(weight_3, activation_function_layer_2) + bias_3\n",
    "    activation_function_layer_3 = sigmoid(pre_activation_layer_3)  \n",
    "    \n",
    "    #cache data of pre-activation and activation values of each layer for use in backpropagation\n",
    "    cache = { \"z1\": pre_activation_layer_1, \"a1\": activation_function_layer_1,\n",
    "              \"z2\":pre_activation_layer_2,  \"a2\": activation_function_layer_2,\n",
    "              \"z3\":pre_activation_layer_3,  \"a3\": activation_function_layer_3\n",
    "            }\n",
    "    return activation_function_layer_3, cache\n"
   ]
  },
  {
   "cell_type": "markdown",
   "id": "d3976a71-729f-4ccf-8959-197c55b1b320",
   "metadata": {},
   "source": [
    "Let's break down the steps mathematically:\n",
    "\n",
    "1. **Transpose Input Data**:\n",
    "   - $X^T$ represents the transposed input feature matrix. This operation ensures that the dimensions of the input data align correctly with the weight matrices.\n",
    "\n",
    "2. **Layer Parameters**:\n",
    "   - For Layer 1:\n",
    "     - $weight_1$ represents the weight matrix for Layer 1.\n",
    "     - $bias_1$ represents the bias vector for Layer 1.\n",
    "   - For Layer 2:\n",
    "     - $weight_2$ represents the weight matrix for Layer 2.\n",
    "     - $bias_2$ represents the bias vector for Layer 2.\n",
    "   - For Layer 3 (Output Layer):\n",
    "     - $weight_3$ represents the weight matrix for the output layer.\n",
    "     - $bias_3$ represents the bias vector for the output layer.\n",
    "\n",
    "3. **Compute Pre-activation Values**:\n",
    "   - For Layer 1:\n",
    "     - $pre\\_activation\\_layer\\_1 = weight_1 \\cdot X^T + bias_1$\n",
    "   - For Layer 2:\n",
    "     - $pre\\_activation\\_layer\\_2 = weight_2 \\cdot activation\\_function\\_layer\\_1 + bias_2$\n",
    "   - For Layer 3:\n",
    "     - $pre\\_activation\\_layer\\_3 = weight_3 \\cdot activation\\_function\\_layer\\_2 + bias_3$\n",
    "\n",
    "4. **Apply Activation Functions**:\n",
    "   - For Layer 1:\n",
    "     - $activation\\_function\\_layer\\_1 = \\text{ReLU}(pre\\_activation\\_layer\\_1)$\n",
    "   - For Layer 2:\n",
    "     - $activation\\_function\\_layer\\_2 = \\text{ReLU}(pre\\_activation\\_layer\\_2)$\n",
    "   - For Layer 3:\n",
    "     - $activation\\_function\\_layer\\_3 = \\text{sigmoid}(pre\\_activation\\_layer\\_3)$\n",
    "\n",
    "5. **Store Intermediate Values**:\n",
    "   - Intermediate values are stored in variables:\n",
    "     - $activation\\_function\\_layer\\_1$ represents the output of Layer 1.\n",
    "     - $activation\\_function\\_layer\\_2$ represents the output of Layer 2.\n",
    "     - $activation\\_function\\_layer\\_3$ represents the output of the output layer.\n",
    "\n",
    "6. **Create Cache**:\n",
    "   - A `cache` dictionary is created to store intermediate values for later use during backpropagation.\n",
    "\n",
    "7. **Return Output and Cache**:\n",
    "   - The function returns:\n",
    "     - The activation values of the last layer ($activation\\_function\\_layer\\_3$), which represent the network's output.\n",
    "     - The `cache` dictionary containing intermediate values.\n",
    "\n",
    "This mathematical representation outlines the forward propagation process in neural networks, where input data is processed through the layers to compute predictions."
   ]
  },
  {
   "cell_type": "code",
   "execution_count": 18,
   "id": "388aee3c-3c71-4967-b207-eb97d0845c94",
   "metadata": {},
   "outputs": [
    {
     "data": {
      "text/plain": [
       "array([[0.46749337, 0.49408363, 0.5       , 0.5       , 0.5       ,\n",
       "        0.5       , 0.5       , 0.5       , 0.5       , 0.5       ,\n",
       "        0.5       , 0.5       , 0.5       , 0.5       , 0.5       ,\n",
       "        0.5       , 0.5       , 0.49690524, 0.5       , 0.5       ,\n",
       "        0.49112616, 0.5       , 0.5       , 0.5       , 0.5       ,\n",
       "        0.5       , 0.5       , 0.5       , 0.5       , 0.5       ,\n",
       "        0.5       , 0.5       , 0.5       , 0.5       , 0.5       ,\n",
       "        0.5       , 0.48733038, 0.5       , 0.5       , 0.4466616 ,\n",
       "        0.5       , 0.5       , 0.49392362, 0.5       , 0.5       ,\n",
       "        0.5       , 0.5       , 0.5       , 0.5       , 0.49725455,\n",
       "        0.5       , 0.5       , 0.5       , 0.5       , 0.5       ,\n",
       "        0.5       , 0.5       , 0.5       , 0.5       , 0.5       ,\n",
       "        0.5       , 0.5       , 0.5       , 0.5       , 0.5       ,\n",
       "        0.46786489, 0.5       , 0.5       , 0.49881361, 0.48935471,\n",
       "        0.5       , 0.5       , 0.5       , 0.5       , 0.5       ,\n",
       "        0.5       , 0.5       , 0.46538422, 0.5       , 0.5       ,\n",
       "        0.5       , 0.5       , 0.5       , 0.43171366, 0.5       ,\n",
       "        0.5       , 0.5       , 0.45709327, 0.5       , 0.44245904,\n",
       "        0.47750927, 0.5       , 0.48658473, 0.5       , 0.5       ,\n",
       "        0.5       , 0.5       , 0.47378696, 0.5       , 0.48835574,\n",
       "        0.5       , 0.5       , 0.5       , 0.48935471, 0.46019481,\n",
       "        0.5       , 0.49265084, 0.5       , 0.5       , 0.5       ,\n",
       "        0.5       , 0.4960156 , 0.5       , 0.5       , 0.5       ,\n",
       "        0.5       , 0.5       , 0.5       , 0.5       , 0.5       ,\n",
       "        0.5       , 0.5       , 0.5       , 0.46253425, 0.47257833,\n",
       "        0.5       , 0.49939973, 0.5       , 0.5       , 0.5       ,\n",
       "        0.47276431, 0.5       , 0.5       , 0.5       , 0.5       ,\n",
       "        0.5       , 0.5       , 0.5       , 0.5       , 0.5       ,\n",
       "        0.5       , 0.5       , 0.5       , 0.5       , 0.5       ,\n",
       "        0.5       , 0.49205859, 0.5       , 0.5       , 0.5       ,\n",
       "        0.49317758, 0.5       , 0.5       , 0.5       , 0.5       ,\n",
       "        0.5       , 0.45357732, 0.5       , 0.5       , 0.47555492,\n",
       "        0.5       , 0.5       , 0.5       , 0.5       , 0.5       ,\n",
       "        0.5       , 0.5       , 0.5       , 0.5       , 0.46012375,\n",
       "        0.5       , 0.5       , 0.5       , 0.5       , 0.5       ,\n",
       "        0.5       , 0.5       , 0.5       , 0.5       , 0.5       ,\n",
       "        0.5       , 0.4881693 , 0.5       , 0.5       , 0.5       ,\n",
       "        0.5       , 0.5       , 0.5       , 0.5       , 0.5       ,\n",
       "        0.5       , 0.5       , 0.5       , 0.5       , 0.5       ,\n",
       "        0.5       , 0.49317758, 0.5       , 0.5       , 0.5       ,\n",
       "        0.5       , 0.5       , 0.48723717, 0.5       , 0.5       ,\n",
       "        0.5       , 0.5       , 0.5       , 0.5       , 0.5       ,\n",
       "        0.5       , 0.5       , 0.5       , 0.5       , 0.43162213,\n",
       "        0.5       , 0.5       , 0.5       , 0.5       , 0.46724114,\n",
       "        0.5       , 0.5       , 0.5       , 0.5       , 0.5       ,\n",
       "        0.5       , 0.5       , 0.5       , 0.49800069, 0.5       ,\n",
       "        0.5       , 0.5       , 0.5       , 0.5       , 0.5       ,\n",
       "        0.5       , 0.5       , 0.5       , 0.5       , 0.5       ,\n",
       "        0.5       , 0.5       , 0.5       , 0.5       , 0.4524018 ,\n",
       "        0.5       , 0.5       , 0.5       , 0.5       , 0.5       ,\n",
       "        0.5       , 0.5       , 0.5       , 0.5       , 0.5       ,\n",
       "        0.5       , 0.5       , 0.5       , 0.5       , 0.5       ,\n",
       "        0.5       , 0.49716129, 0.5       , 0.5       , 0.5       ,\n",
       "        0.5       , 0.5       , 0.5       , 0.5       , 0.5       ,\n",
       "        0.5       , 0.5       , 0.5       , 0.5       , 0.47204685,\n",
       "        0.5       , 0.5       , 0.5       , 0.5       , 0.5       ,\n",
       "        0.5       , 0.5       , 0.5       , 0.5       , 0.5       ,\n",
       "        0.46482733, 0.5       , 0.5       , 0.5       , 0.5       ,\n",
       "        0.5       , 0.5       , 0.5       , 0.5       , 0.5       ,\n",
       "        0.46761264, 0.5       , 0.5       , 0.5       , 0.5       ,\n",
       "        0.5       , 0.5       , 0.5       , 0.5       , 0.5       ,\n",
       "        0.5       , 0.5       , 0.5       , 0.5       , 0.5       ,\n",
       "        0.5       , 0.5       , 0.5       , 0.5       , 0.5       ,\n",
       "        0.5       , 0.44953825, 0.5       , 0.5       , 0.5       ,\n",
       "        0.49408363, 0.5       , 0.5       , 0.5       , 0.5       ,\n",
       "        0.48164647, 0.5       , 0.5       , 0.5       , 0.5       ,\n",
       "        0.5       , 0.5       , 0.45854865, 0.5       , 0.5       ,\n",
       "        0.5       , 0.5       , 0.5       , 0.5       , 0.5       ,\n",
       "        0.46733401, 0.5       , 0.5       , 0.5       , 0.48223182,\n",
       "        0.5       , 0.5       , 0.5       , 0.5       , 0.5       ,\n",
       "        0.5       , 0.5       , 0.4466616 , 0.5       , 0.48891507,\n",
       "        0.5       , 0.5       , 0.5       , 0.5       , 0.5       ,\n",
       "        0.5       , 0.5       , 0.5       , 0.5       , 0.5       ,\n",
       "        0.5       , 0.5       , 0.5       , 0.5       , 0.5       ,\n",
       "        0.5       , 0.5       , 0.5       , 0.5       , 0.5       ,\n",
       "        0.5       , 0.5       , 0.5       , 0.5       , 0.5       ,\n",
       "        0.5       , 0.5       , 0.5       , 0.5       , 0.48844896,\n",
       "        0.5       , 0.5       , 0.5       , 0.5       , 0.5       ,\n",
       "        0.5       , 0.5       , 0.5       , 0.5       , 0.5       ,\n",
       "        0.5       , 0.5       , 0.5       , 0.5       , 0.5       ,\n",
       "        0.47778852, 0.49762762, 0.5       , 0.5       , 0.5       ,\n",
       "        0.5       , 0.49809396, 0.5       , 0.5       , 0.5       ,\n",
       "        0.5       , 0.5       , 0.5       , 0.5       , 0.44944593,\n",
       "        0.5       , 0.5       , 0.5       , 0.5       , 0.5       ,\n",
       "        0.48297708, 0.5       , 0.5       , 0.46451718, 0.5       ,\n",
       "        0.5       , 0.46399215, 0.5       , 0.5       , 0.5       ,\n",
       "        0.5       , 0.5       , 0.5       , 0.5       , 0.5       ,\n",
       "        0.5       , 0.5       , 0.48779644, 0.5       , 0.5       ,\n",
       "        0.5       , 0.5       , 0.5       , 0.5       , 0.5       ,\n",
       "        0.5       , 0.5       , 0.5       , 0.5       , 0.5       ,\n",
       "        0.5       , 0.5       , 0.5       , 0.5       , 0.5       ,\n",
       "        0.5       , 0.5       , 0.5       , 0.5       , 0.5       ,\n",
       "        0.449169  , 0.5       , 0.5       , 0.5       , 0.48891507,\n",
       "        0.5       , 0.5       , 0.5       , 0.5       , 0.5       ,\n",
       "        0.5       , 0.5       , 0.49993285, 0.5       , 0.5       ,\n",
       "        0.5       , 0.5       , 0.49252483, 0.5       , 0.5       ,\n",
       "        0.5       , 0.48798287, 0.5       , 0.44716534, 0.5       ,\n",
       "        0.5       , 0.5       , 0.5       , 0.5       , 0.5       ,\n",
       "        0.5       , 0.43180519, 0.5       , 0.48639833, 0.5       ,\n",
       "        0.5       , 0.5       , 0.5       , 0.5       , 0.5       ,\n",
       "        0.49660169, 0.5       , 0.45385473, 0.5       , 0.49697475,\n",
       "        0.49205859, 0.5       , 0.5       , 0.5       , 0.5       ,\n",
       "        0.5       , 0.47102421, 0.5       , 0.5       , 0.5       ,\n",
       "        0.5       , 0.5       , 0.5       , 0.5       , 0.5       ,\n",
       "        0.5       , 0.5       , 0.5       , 0.5       , 0.5       ,\n",
       "        0.5       , 0.5       , 0.5       , 0.5       , 0.5       ,\n",
       "        0.5       , 0.5       , 0.5       , 0.5       , 0.5       ,\n",
       "        0.5       , 0.5       , 0.5       , 0.5       , 0.47306972,\n",
       "        0.49112616, 0.5       , 0.5       , 0.46879385, 0.5       ,\n",
       "        0.5       , 0.5       , 0.5       , 0.47778852, 0.47220639,\n",
       "        0.5       , 0.5       , 0.5       , 0.5       , 0.43691218,\n",
       "        0.5       , 0.5       , 0.5       , 0.5       , 0.5       ,\n",
       "        0.45385473, 0.5       , 0.5       , 0.48288391, 0.5       ,\n",
       "        0.5       , 0.5       , 0.5       , 0.5       , 0.5       ,\n",
       "        0.5       , 0.5       , 0.5       , 0.5       , 0.5       ,\n",
       "        0.5       , 0.4994665 , 0.5       , 0.5       , 0.5       ,\n",
       "        0.5       , 0.5       , 0.5       , 0.5       , 0.5       ,\n",
       "        0.5       , 0.5       , 0.5       , 0.5       , 0.49734782,\n",
       "        0.5       , 0.5       , 0.5       , 0.5       , 0.5       ,\n",
       "        0.5       , 0.5       , 0.5       , 0.5       , 0.5       ,\n",
       "        0.5       , 0.5       , 0.5       , 0.5       , 0.5       ,\n",
       "        0.5       , 0.5       , 0.5       , 0.5       , 0.5       ,\n",
       "        0.5       , 0.5       , 0.5       , 0.5       , 0.5       ,\n",
       "        0.48325657, 0.5       , 0.5       , 0.5       , 0.5       ,\n",
       "        0.5       , 0.5       , 0.5       , 0.5       , 0.5       ,\n",
       "        0.48686434, 0.5       , 0.5       , 0.5       , 0.5       ,\n",
       "        0.5       , 0.5       , 0.5       , 0.45413217, 0.46842224,\n",
       "        0.5       , 0.5       , 0.5       , 0.5       , 0.5       ,\n",
       "        0.5       , 0.5       , 0.5       , 0.5       , 0.5       ,\n",
       "        0.5       , 0.5       , 0.46067986, 0.5       , 0.49613537,\n",
       "        0.5       , 0.5       , 0.5       , 0.5       , 0.5       ,\n",
       "        0.5       , 0.5       , 0.5       , 0.5       , 0.5       ,\n",
       "        0.5       , 0.5       , 0.44486078, 0.5       , 0.5       ,\n",
       "        0.5       , 0.5       , 0.5       , 0.47667161, 0.5       ,\n",
       "        0.5       , 0.5       , 0.5       , 0.5       , 0.5       ,\n",
       "        0.48705076, 0.5       , 0.5       , 0.5       , 0.5       ,\n",
       "        0.5       , 0.5       , 0.5       , 0.5       , 0.5       ,\n",
       "        0.47574102, 0.5       , 0.5       , 0.5       , 0.47825397,\n",
       "        0.5       , 0.5       , 0.49660169, 0.5       , 0.5       ,\n",
       "        0.5       , 0.5       , 0.5       , 0.48844896, 0.5       ,\n",
       "        0.5       , 0.5       , 0.5       , 0.5       , 0.46805067,\n",
       "        0.47306972, 0.5       , 0.5       , 0.5       , 0.5       ,\n",
       "        0.5       , 0.5       , 0.47788161, 0.5       , 0.49660169,\n",
       "        0.4937371 , 0.5       , 0.5       , 0.5       , 0.5       ,\n",
       "        0.5       , 0.5       , 0.5       , 0.48872862, 0.5       ,\n",
       "        0.5       , 0.5       , 0.5       , 0.5       , 0.5       ,\n",
       "        0.5       , 0.5       , 0.5       , 0.5       , 0.5       ,\n",
       "        0.5       , 0.48232497, 0.5       , 0.5       , 0.5       ,\n",
       "        0.5       , 0.5       , 0.5       , 0.5       , 0.5       ,\n",
       "        0.5       , 0.5       , 0.48481406, 0.5       , 0.5       ,\n",
       "        0.5       , 0.5       , 0.5       , 0.5       , 0.5       ,\n",
       "        0.5       , 0.5       , 0.5       , 0.48251128, 0.5       ,\n",
       "        0.5       , 0.5       , 0.5       , 0.5       , 0.5       ,\n",
       "        0.5       , 0.5       , 0.5       , 0.5       , 0.5       ,\n",
       "        0.5       , 0.5       , 0.5       , 0.5       , 0.5       ,\n",
       "        0.5       , 0.5       , 0.5       , 0.5       , 0.5       ,\n",
       "        0.5       , 0.43162213, 0.5       , 0.5       , 0.47204685,\n",
       "        0.5       , 0.5       , 0.5       , 0.5       , 0.5       ,\n",
       "        0.5       , 0.5       , 0.5       , 0.5       , 0.5       ,\n",
       "        0.5       , 0.5       , 0.5       , 0.5       , 0.5       ,\n",
       "        0.5       , 0.5       , 0.5       , 0.49706802, 0.5       ,\n",
       "        0.5       , 0.49632189, 0.5       , 0.43636155, 0.5       ,\n",
       "        0.5       , 0.5       , 0.5       , 0.5       , 0.5       ,\n",
       "        0.5       , 0.5       , 0.48260444, 0.5       , 0.44449227,\n",
       "        0.5       , 0.5       , 0.5       , 0.5       , 0.5       ,\n",
       "        0.5       , 0.5       , 0.5       , 0.5       , 0.48639833,\n",
       "        0.5       , 0.5       , 0.5       , 0.5       , 0.5       ,\n",
       "        0.5       , 0.5       , 0.5       , 0.5       , 0.4708383 ,\n",
       "        0.5       , 0.48761001, 0.5       , 0.5       , 0.5       ,\n",
       "        0.47350832, 0.5       , 0.5       , 0.5       , 0.5       ,\n",
       "        0.5       , 0.5       , 0.5       , 0.5       , 0.5       ,\n",
       "        0.5       , 0.5       , 0.5       , 0.5       , 0.5       ,\n",
       "        0.4787861 , 0.5       , 0.5       , 0.5       , 0.5       ,\n",
       "        0.5       , 0.49289783, 0.5       , 0.5       , 0.5       ,\n",
       "        0.5       , 0.5       , 0.5       , 0.5       , 0.5       ,\n",
       "        0.49921319, 0.5       , 0.5       , 0.47251176, 0.5       ,\n",
       "        0.5       , 0.5       , 0.5       , 0.5       , 0.5       ,\n",
       "        0.49473644, 0.5       , 0.5       , 0.5       , 0.5       ,\n",
       "        0.5       , 0.5       , 0.5       , 0.5       , 0.5       ,\n",
       "        0.5       , 0.5       , 0.5       , 0.5       , 0.5       ,\n",
       "        0.5       , 0.48814282, 0.46870094, 0.5       , 0.47906541,\n",
       "        0.5       , 0.5       , 0.5       , 0.47834706, 0.49317758,\n",
       "        0.5       , 0.5       , 0.45854865, 0.5       , 0.5       ,\n",
       "        0.5       , 0.5       , 0.5       , 0.5       , 0.5       ,\n",
       "        0.46733401, 0.5       , 0.46786883, 0.5       , 0.5       ,\n",
       "        0.5       , 0.5       , 0.5       , 0.5       , 0.5       ,\n",
       "        0.5       , 0.5       , 0.5       , 0.5       , 0.5       ,\n",
       "        0.5       , 0.5       , 0.5       , 0.5       , 0.5       ,\n",
       "        0.5       , 0.5       , 0.5       , 0.5       , 0.47434546,\n",
       "        0.5       , 0.5       , 0.5       , 0.5       , 0.5       ,\n",
       "        0.4627509 , 0.49131264, 0.5       , 0.5       , 0.5       ,\n",
       "        0.5       , 0.4731363 , 0.5       , 0.48350959, 0.5       ,\n",
       "        0.5       , 0.5       , 0.5       , 0.5       , 0.5       ,\n",
       "        0.5       , 0.5       , 0.5       , 0.5       , 0.5       ,\n",
       "        0.5       , 0.47723003, 0.5       , 0.47195387, 0.5       ,\n",
       "        0.5       , 0.5       , 0.4488921 , 0.5       , 0.5       ,\n",
       "        0.5       , 0.5       , 0.49280458, 0.5       , 0.5       ,\n",
       "        0.5       , 0.5       , 0.5       , 0.5       , 0.5       ,\n",
       "        0.5       , 0.5       , 0.5       , 0.5       , 0.5       ,\n",
       "        0.48807609, 0.5       , 0.5       , 0.5       , 0.5       ]])"
      ]
     },
     "execution_count": 18,
     "metadata": {},
     "output_type": "execute_result"
    }
   ],
   "source": [
    "#performing forward propagataion \n",
    "activation_function_layer_3, cache = forward_propagation(X, parameters)\n",
    "activation_function_layer_3"
   ]
  },
  {
   "cell_type": "markdown",
   "id": "ace38e72-f7b4-4e80-acee-6b0f3c82e54a",
   "metadata": {},
   "source": [
    "#### 7. Computing Loss"
   ]
  },
  {
   "cell_type": "markdown",
   "id": "e70f3816-1797-42a5-bb16-644720d21862",
   "metadata": {},
   "source": [
    "The Computing loss function calculates the loss (or cost) between the predicted values from the output layer and the actual target values. This loss is commonly used in binary classification tasks with logistic regression or sigmoid activation in the output layer."
   ]
  },
  {
   "cell_type": "markdown",
   "id": "2c2a6d19-a887-4a54-ae35-1e3cb75ec6da",
   "metadata": {},
   "source": [
    "$ \\text{Loss} = -\\frac{1}{m} \\sum_{i=1}^{m} \\left[ y^{(i)} \\log(\\hat{y}^{(i)}) + (1 - y^{(i)}) \\log(1 - \\hat{y}^{(i)}) \\right] $\n",
    "\n",
    "- $ m $ is the number of samples in the dataset.\n",
    "- $ y^{(i)} $ represents the actual target value (ground truth) for the $ i $th sample.\n",
    "- $ \\hat{y}^{(i)} $ represents the predicted activation value (output) for the $ i $th sample.\n"
   ]
  },
  {
   "cell_type": "code",
   "execution_count": 19,
   "id": "f6515b76-66b8-4e60-8979-91806e39a3a5",
   "metadata": {},
   "outputs": [],
   "source": [
    "#declaring function computing loss \n",
    "def computing_loss(activation_function_layer_3, y):\n",
    "    #activation_function_layer_3 is shaped (1, m) to match y when y is reshaped to (1, m)\n",
    "    #if one-dimensional and reshaped two-dimensional y\n",
    "    #small value to avoid log(0)\n",
    "    m = y.size  \n",
    "    epsilon = 1e-5  \n",
    "    #ensure Y is reshaped to (1, m) for compatibility with activation_function_layer_3\n",
    "    if y.ndim == 1:\n",
    "        y = y.reshape(1, m)\n",
    "    #adjusting the computation to avoid log(0)\n",
    "    log_probs = np.log(activation_function_layer_3 + epsilon) * y + np.log(1 - activation_function_layer_3 + epsilon) * (1 - y)\n",
    "    cost = -np.sum(log_probs) / m\n",
    "    #ensuring cost is the proper shape regardless of its original form\n",
    "    cost = np.squeeze(cost)  \n",
    "    return cost"
   ]
  },
  {
   "cell_type": "markdown",
   "id": "f7b00337-5a53-40c2-9459-b19b2c2ed653",
   "metadata": {},
   "source": [
    "The `computing_loss` function calculates the loss (or cost) between the predicted values from the output layer and the actual target values. This loss is commonly used in binary classification tasks with logistic regression or sigmoid activation in the output layer.\n",
    "\n",
    "Here's a step-by-step explanation of the function:\n",
    "- `activation_function_layer_3`: Represents the activation values of the output layer.\n",
    "- `y`: Represents the actual target values or labels.\n",
    "- `epsilon`: A small value is added to probabilities to prevent taking the logarithm of zero.\n",
    "- Reshaping `y`: If `y` is one-dimensional, it's reshaped to (1, m) for compatibility.\n",
    "- Log Probabilities: Log probabilities are computed for both positive and negative classes using the logistic regression loss formula.\n",
    "- Cost Calculation: The average cross-entropy loss is computed.\n",
    "- `cost` Reshaping: The `cost` is reshaped for proper formatting."
   ]
  },
  {
   "cell_type": "code",
   "execution_count": 20,
   "id": "1a5e16f8-2faf-48fe-8004-8d0f07c886aa",
   "metadata": {},
   "outputs": [
    {
     "data": {
      "text/plain": [
       "0.6868510093131084"
      ]
     },
     "execution_count": 20,
     "metadata": {},
     "output_type": "execute_result"
    }
   ],
   "source": [
    "#performing computational loss\n",
    "computing_loss(activation_function_layer_3, y)"
   ]
  },
  {
   "cell_type": "markdown",
   "id": "20d585ac-ca35-41b9-9d9f-2874bfb30ad7",
   "metadata": {},
   "source": [
    "#### 8. Backward Propagation "
   ]
  },
  {
   "cell_type": "markdown",
   "id": "935a1265-aaef-459a-bab5-ac38c2882f23",
   "metadata": {},
   "source": [
    "Backward propagation is a vital step in training neural networks, where we calculate the gradients (derivatives) of the cost function with respect to the model's parameters. These gradients are crucial for updating the model's weights and biases during training using techniques like gradient descent. Let's delve into the mathematical formulas for each step of the backward propagation process:\n",
    "\n",
    "##### Backward Propagation for Layer 3:\n",
    "\n",
    "1. **Derivative of Pre-Activation Values of Layer 3:**\n",
    "   \n",
    "   $ \\frac{\\partial J}{\\partial Z^{[3]}} = A^{[3]} - Y $\n",
    "\n",
    "2. **Gradients for Layer 3's Weights and Bias:**\n",
    "   \n",
    "   - Weight derivative:\n",
    "   \n",
    "     $ \\frac{\\partial J}{\\partial W^{[3]}} = \\frac{1}{m} \\cdot \\frac{\\partial J}{\\partial Z^{[3]}} \\cdot A^{[2]T} $\n",
    "\n",
    "   - Bias derivative:\n",
    "   \n",
    "     $ \\frac{\\partial J}{\\partial b^{[3]}} = \\frac{1}{m} \\cdot \\sum_{i=1}^{m} \\frac{\\partial J}{\\partial Z^{[3](i)}} $\n",
    "\n",
    "##### Backward Propagation for Layer 2:\n",
    "\n",
    "3. **Derivative of Activation Values of Layer 2 with respect to Pre-Activation Values:**\n",
    "\n",
    "   $ \\frac{\\partial A^{[2]}}{\\partial Z^{[2]}} = \\frac{\\partial g^{[2]}}{\\partial Z^{[2]}} $\n",
    "\n",
    "   Here, $ g^{[2]} $ represents the activation function used in Layer 2 (typically ReLU).\n",
    "\n",
    "4. **Derivative of Pre-Activation Values of Layer 2:**\n",
    "\n",
    "   $ \\frac{\\partial J}{\\partial Z^{[2]}} = \\left( W^{[3]T} \\cdot \\frac{\\partial J}{\\partial Z^{[3]}} \\right) \\odot \\frac{\\partial A^{[2]}}{\\partial Z^{[2]}} $\n",
    "\n",
    "   Here, $ \\odot $ represents element-wise multiplication.\n",
    "\n",
    "5. **Gradients for Layer 2's Weights and Bias:**\n",
    "\n",
    "   - Weight derivative:\n",
    "\n",
    "     $ \\frac{\\partial J}{\\partial W^{[2]}} = \\frac{1}{m} \\cdot \\frac{\\partial J}{\\partial Z^{[2]}} \\cdot A^{[1]T} $\n",
    "\n",
    "   - Bias derivative:\n",
    "\n",
    "     $ \\frac{\\partial J}{\\partial b^{[2]}} = \\frac{1}{m} \\cdot \\sum_{i=1}^{m} \\frac{\\partial J}{\\partial Z^{[2](i)}} $\n",
    "\n",
    "##### Backward Propagation for Layer 1:\n",
    "\n",
    "6. **Derivative of Activation Values of Layer 1 with respect to Pre-Activation Values:**\n",
    "\n",
    "   $ \\frac{\\partial A^{[1]}}{\\partial Z^{[1]}} = \\frac{\\partial g^{[1]}}{\\partial Z^{[1]}} $\n",
    "\n",
    "   Here, $ g^{[1]} $ represents the activation function used in Layer 1 (typically ReLU).\n",
    "\n",
    "7. **Derivative of Pre-Activation Values of Layer 1:**\n",
    "\n",
    "   $ \\frac{\\partial J}{\\partial Z^{[1]}} = \\left( W^{[2]T} \\cdot \\frac{\\partial J}{\\partial Z^{[2]}} \\right) \\odot \\frac{\\partial A^{[1]}}{\\partial Z^{[1]}} $\n",
    "\n",
    "8. **Gradients for Layer 1's Weights and Bias:**\n",
    "\n",
    "   - Weight derivative:\n",
    "\n",
    "     $ \\frac{\\partial J}{\\partial W^{[1]}} = \\frac{1}{m} \\cdot \\frac{\\partial J}{\\partial Z^{[1]}} \\cdot X^T $\n",
    "\n",
    "   - Bias derivative:\n",
    "\n",
    "     $ \\frac{\\partial J}{\\partial b^{[1]}} = \\frac{1}{m} \\cdot \\sum_{i=1}^{m} \\frac{\\partial J}{\\partial Z^{[1](i)}} $"
   ]
  },
  {
   "cell_type": "code",
   "execution_count": 21,
   "id": "e8b58cc6-4da4-4042-85a1-6be5f951583c",
   "metadata": {},
   "outputs": [],
   "source": [
    "#function for backward propagation\n",
    "def backward_propagation(parameters, cache, X, y):\n",
    "    #total number of sample\n",
    "    #X.shape[0] <- first dimension\n",
    "    #X.shape[1] <- second dimension\n",
    "    m = X.shape[1]\n",
    "    \n",
    "    #retrieve weights and activations\n",
    "    weight_1, weight_2, weight_3 = parameters[\"w1\"], parameters[\"w2\"], parameters[\"w3\"]\n",
    "    activation_1, activation_2, activation_3 = cache[\"a1\"], cache[\"a2\"], cache[\"a3\"]\n",
    "    \n",
    "    #backward propagation for layer 3\n",
    "    derivative_pre_activation_layer_3 = activation_3 - y\n",
    "    derivative_weight_layer_3 = np.dot(derivative_pre_activation_layer_3, activation_2.T) / m\n",
    "    derivative_bias_layer_3 = np.sum(derivative_pre_activation_layer_3, axis=1, keepdims=True) / m\n",
    "    \n",
    "    #backward propagation for layer 2\n",
    "    #include the derivative of the activation function used in layer 2\n",
    "    #ReLU was used in layer 2\n",
    "    derivative_activation_2 = np.dot(weight_3.T, derivative_pre_activation_layer_3)\n",
    "    #derivative of ReLU\n",
    "    derivative_pre_activation_layer_2 = derivative_activation_2 * (activation_2 > 0)  \n",
    "    derivative_weight_layer_2 = np.dot(derivative_pre_activation_layer_2, activation_1.T) / m\n",
    "    derivative_bias_layer_2 = np.sum(derivative_pre_activation_layer_2, axis=1, keepdims=True) / m\n",
    "    \n",
    "    #backward propagation for layer 1\n",
    "    #assuming ReLU was used in layer 1\n",
    "    derivative_activation_1 = np.dot(weight_2.T, derivative_pre_activation_layer_2)\n",
    "    #derivative of ReLU\n",
    "    derivative_pre_activation_layer_1 = derivative_activation_1 * (activation_1 > 0)  \n",
    "    derivative_weight_layer_1 = np.dot(derivative_pre_activation_layer_1, X) / m\n",
    "    derivative_bias_layer_1 = np.sum(derivative_pre_activation_layer_1, axis=1, keepdims=True) / m\n",
    "\n",
    "    gradients = {\n",
    "        \"dw1\": derivative_weight_layer_1,\n",
    "        \"db1\": derivative_bias_layer_1,\n",
    "        \"dw2\": derivative_weight_layer_2,\n",
    "        \"db2\": derivative_bias_layer_2,\n",
    "        \"dw3\": derivative_weight_layer_3,\n",
    "        \"db3\": derivative_bias_layer_3\n",
    "    }\n",
    "    return gradients"
   ]
  },
  {
   "cell_type": "code",
   "execution_count": 22,
   "id": "e1a4bc3e-b6a5-4c7f-98e8-e059bc45b900",
   "metadata": {},
   "outputs": [
    {
     "name": "stdout",
     "output_type": "stream",
     "text": [
      "{'dw1': array([[ 5.98524362, 13.07426084],\n",
      "       [-2.68122566, -3.36305935]]), 'db1': array([[-14.91312239],\n",
      "       [  2.63436763]]), 'dw2': array([[ 0.        ,  0.        ],\n",
      "       [-6.42307374, -0.16967617]]), 'db2': array([[  0.        ],\n",
      "       [-29.65534593]]), 'dw3': array([[0.        , 3.32092786]]), 'db3': array([[47.37386964]])}\n"
     ]
    }
   ],
   "source": [
    "#calcualting gradients using backward propagation \n",
    "grads = backward_propagation(parameters, cache, X, y)\n",
    "print(grads)"
   ]
  },
  {
   "cell_type": "markdown",
   "id": "982a2383-bd20-4b56-962c-2bd9ca672bbf",
   "metadata": {},
   "source": [
    "#### 9. Update Parameters "
   ]
  },
  {
   "cell_type": "markdown",
   "id": "86ec3669-67a1-4988-8f36-bf5f10d069db",
   "metadata": {},
   "source": [
    "In the training of neural networks, updating the model's parameters, which include weights and biases, is a pivotal step. This process relies on gradient information to iteratively adjust the parameters in order to minimize the loss function—a measure of how far the model's predictions are from the actual values. The parameter update is performed using the gradient descent algorithm or its variants, and the formulas for updating parameters at each layer \\(i\\) are as follows:\n",
    "\n",
    "- **Weight Update Formula:**\n",
    "\n",
    "  $$W^{[i]} = W^{[i]} - \\alpha \\times \\frac{\\partial J}{\\partial W^{[i]}}$$\n",
    "\n",
    "- **Bias Update Formula:**\n",
    "\n",
    "  $$b^{[i]} = b^{[i]} - \\alpha \\times \\frac{\\partial J}{\\partial b^{[i]}}$$\n",
    "\n",
    "Where:\n",
    "- $W^{[i]}$ and $b^{[i]}$ represent the weights and biases of layer $i$, respectively.\n",
    "- $\\frac{\\partial J}{\\partial W^{[i]}}$ and $\\frac{\\partial J}{\\partial b^{[i]}}$ denote the gradients of the loss function $J$ with respect to the weights and biases of layer $i$. These gradients provide the direction in which the loss function decreases the fastest.\n",
    "- $\\alpha$, known as the learning rate, is a hyperparameter that controls the size of the steps taken towards the minimum of the loss function. Choosing an appropriate learning rate is crucial; too small a rate may result in a long convergence time, while too large a rate may cause the training to oscillate around or diverge from the minimum.\n",
    "\n",
    "The objective of this update process is to systematically minimize the loss function by navigating the model's parameters towards the optimum values that yield the best performance. Through iterative adjustments, the model learns from the training data, improving its predictions over time.\n",
    "\n",
    "This parameter update mechanism is at the heart of neural network training and plays a vital role in the learning process, enabling models to capture complex patterns in the datathey are trained on.\n"
   ]
  },
  {
   "cell_type": "code",
   "execution_count": 23,
   "id": "c8477d76-895a-460e-8008-29164cd82b05",
   "metadata": {},
   "outputs": [],
   "source": [
    "#declaring function for updating parameters\n",
    "def update_parameters(parameters, grads, learning_rate=0.001):\n",
    "    #number of layers\n",
    "    num_layers = len(parameters) // 2  \n",
    "    #for loop to iterate over range of layer + 1\n",
    "    for i in range(1, num_layers + 1):\n",
    "        #key names to match those used in parameters and grads dictionaries\n",
    "        parameters[\"w\" + str(i)] -= learning_rate * grads[\"dw\" + str(i)]\n",
    "        parameters[\"b\" + str(i)] -= learning_rate * grads[\"db\" + str(i)]\n",
    "    return parameters"
   ]
  },
  {
   "cell_type": "code",
   "execution_count": 24,
   "id": "53a023c6-17b6-42a8-9c0b-d3cfb6a681d4",
   "metadata": {},
   "outputs": [
    {
     "name": "stdout",
     "output_type": "stream",
     "text": [
      "{'w1': array([[-0.47661028, -0.18700944],\n",
      "       [-2.10938384,  1.6739014 ]]), 'b1': array([[ 0.14913122],\n",
      "       [-0.02634368]]), 'w2': array([[-1.79343559, -0.84174737],\n",
      "       [ 0.56711215, -1.24359132]]), 'b2': array([[0.        ],\n",
      "       [0.29655346]]), 'w3': array([[-1.05795222, -0.94221689]]), 'b3': array([[-0.4737387]])}\n"
     ]
    }
   ],
   "source": [
    "#calculating update parameters using update parameter function\n",
    "print(update_parameters(parameters, grads, learning_rate=0.01))"
   ]
  },
  {
   "cell_type": "markdown",
   "id": "f81c319d-a080-4f00-8e2f-41b1dd92e735",
   "metadata": {},
   "source": [
    "#### 10. Training Model "
   ]
  },
  {
   "cell_type": "markdown",
   "id": "7ff162c1-9464-43cf-8996-1338f95acdde",
   "metadata": {},
   "source": [
    "##### The loss function used in this model is given by:\n",
    "\n",
    "$$\n",
    "\\text{Loss} = -\\frac{1}{m} \\sum_{i=1}^{m} \\left(y^{(i)} \\log(a^{[L](i)}) + (1 - y^{(i)}) \\log(1 - a^{[L](i)})\\right)\n",
    "$$\n",
    "\n",
    "where $ m $ is the number of training examples, $ y^{(i)} $ is the true label for the $ i $-th example, and $ a^{[L](i)} $ is the predicted probability of the $ i $-th example belonging to the positive class.\n"
   ]
  },
  {
   "cell_type": "markdown",
   "id": "30e54ce1-9d9e-49a7-a916-2e1c807fabe0",
   "metadata": {},
   "source": [
    "##### During forward propagation, the following equations are used to compute the activations of each layer:\n",
    "\n",
    "$$\n",
    "Z^{[l]} = W^{[l]}A^{[l-1]} + b^{[l]}\n",
    "$$\n",
    "$$\n",
    "A^{[l]} = g^{[l]}(Z^{[l]})\n",
    "$$\n",
    "\n",
    "Here, $ Z^{[l]} $ represents the weighted sum of inputs for layer $ l $, $ A^{[l]} $ represents the activation of layer $ l $, $ W^{[l]} $ and $ b^{[l]} $ are the weight matrix and bias vector for layer $ l $, and $ g^{[l]} $ is the activation function for layer $ l $.\n"
   ]
  },
  {
   "cell_type": "markdown",
   "id": "52337f24-52fc-4ddb-b37d-154b5cb622f5",
   "metadata": {},
   "source": [
    "##### During backward propagation, the gradients with respect to the parameters are computed using the following equations:\n",
    "\n",
    "$$\n",
    "dZ^{[l]} = dA^{[l]} * g'^{[l]}(Z^{[l]})\n",
    "$$\n",
    "$$\n",
    "dW^{[l]} = \\frac{1}{m} dZ^{[l]}A^{[l-1]T}\n",
    "$$\n",
    "$$\n",
    "db^{[l]} = \\frac{1}{m} \\sum_{i=1}^{m} dZ^{[l](i)}\n",
    "$$\n",
    "$$\n",
    "dA^{[l-1]} = W^{[l]T}dZ^{[l]}\n",
    "$$\n",
    "\n",
    "Here, $ dZ^{[l]} $ represents the gradient of the cost function with respect to $ Z^{[l]} $, $ dW^{[l]} $ and $ db^{[l]} $ are the gradients of the cost function with respect to the weights and biases of layer $ l $, and $ dA^{[l-1]} $ is the gradient of the cost function with respect to the activations of layer $ l-1 $.\n"
   ]
  },
  {
   "cell_type": "code",
   "execution_count": 25,
   "id": "a5dbb6d1-2d43-49c9-8279-33e011135bc1",
   "metadata": {},
   "outputs": [],
   "source": [
    "#function to train model\n",
    "def train_model(X, y, iterations=1000, learning_rate=0.001):\n",
    "    #reproducibility\n",
    "    np.random.seed(1)  \n",
    "    #He initialization\n",
    "    parameters = initialise_parameters_he(X.shape[1], 5, 3, 1)\n",
    "    #loss and accuracy values \n",
    "    loss_values = []  \n",
    "    accuracy_values = []  \n",
    "    for i in range(iterations):\n",
    "        #forward propagation\n",
    "        activation_layers, caches = forward_propagation(X, parameters)\n",
    "        #compute and store loss\n",
    "        cost = computing_loss(activation_layers, y)\n",
    "        loss_values.append(cost)\n",
    "        #backward propagation\n",
    "        grads = backward_propagation(parameters, caches, X, y)\n",
    "        #update parameters\n",
    "        parameters = update_parameters(parameters, grads, learning_rate)\n",
    "        \n",
    "        #predictions and accuracy \n",
    "        predictions = (activation_layers > 0.5).astype(int)\n",
    "         #ensuring shapes match\n",
    "        accuracy = np.mean(predictions == y.reshape(predictions.shape)) * 100 \n",
    "        accuracy_values.append(accuracy)\n",
    "    return parameters, loss_values, accuracy_values"
   ]
  },
  {
   "cell_type": "markdown",
   "id": "3fecc7cf-8c20-4a89-b2b4-679af74354a3",
   "metadata": {},
   "source": [
    "#### 11. Splitting Data into Train and Test "
   ]
  },
  {
   "cell_type": "code",
   "execution_count": 26,
   "id": "c5350433-3e59-4198-998d-9de17a98afd8",
   "metadata": {},
   "outputs": [],
   "source": [
    "#splitting data into trianing and testing\n",
    "#80 percent train and 20 percent test\n",
    "X_train, X_test, y_train, y_test = train_test_split(X,y, test_size=0.2, random_state=0)"
   ]
  },
  {
   "cell_type": "code",
   "execution_count": 27,
   "id": "5a73373b-9b1d-4de5-80f0-4a4dc6f9599c",
   "metadata": {},
   "outputs": [
    {
     "data": {
      "text/plain": [
       "((800, 2), (800,))"
      ]
     },
     "execution_count": 27,
     "metadata": {},
     "output_type": "execute_result"
    }
   ],
   "source": [
    "#checking shape of train set\n",
    "(X_train.shape, y_train.shape)"
   ]
  },
  {
   "cell_type": "code",
   "execution_count": 28,
   "id": "f3156051-2d5f-41ef-9438-a9cbac1b2dd6",
   "metadata": {},
   "outputs": [
    {
     "data": {
      "text/plain": [
       "((200, 2), (200,))"
      ]
     },
     "execution_count": 28,
     "metadata": {},
     "output_type": "execute_result"
    }
   ],
   "source": [
    "#checking shape of test set\n",
    "(X_test.shape, y_test.shape)"
   ]
  },
  {
   "cell_type": "markdown",
   "id": "34ef6ef1-8704-48a4-8e10-8b50b89632a5",
   "metadata": {},
   "source": [
    "#### 12. Loss and Accuracy "
   ]
  },
  {
   "cell_type": "code",
   "execution_count": 29,
   "id": "f99cde96-a58c-4f86-a384-20d78e5dc23b",
   "metadata": {},
   "outputs": [],
   "source": [
    "#calling function to calcualte parameters, loss and accuracy values\n",
    "parameters, loss_values, accuracy_values = train_model(X_train, y_train, iterations=500, learning_rate=0.001)"
   ]
  },
  {
   "cell_type": "code",
   "execution_count": 30,
   "id": "ff00d0ff-b392-46f6-bfe0-a5fc49c78d85",
   "metadata": {},
   "outputs": [
    {
     "data": {
      "image/png": "[encoded data removed]",
      "text/plain": [
       "<Figure size 1000x300 with 2 Axes>"
      ]
     },
     "metadata": {},
     "output_type": "display_data"
    }
   ],
   "source": [
    "#loss plot\n",
    "plt.figure(figsize=(10, 3))\n",
    "plt.subplot(1, 2, 1)\n",
    "plt.plot(loss_values, lw=2,  label='Loss')\n",
    "plt.title('Loss over iterations')\n",
    "plt.xlabel('Iterations')\n",
    "plt.ylabel('Loss')\n",
    "plt.grid(True, ls='--', alpha=0.5)\n",
    "plt.legend()\n",
    "#accu\n",
    "plt.subplot(1, 2, 2)\n",
    "plt.plot(accuracy_values, label='Accuracy', color='orange', lw=2)\n",
    "plt.title('Accuracy over iterations')\n",
    "plt.xlabel('Iterations')\n",
    "plt.ylabel('Accuracy')\n",
    "plt.grid(True, ls='--', alpha=0.5)\n",
    "plt.legend()\n",
    "\n",
    "plt.tight_layout()\n",
    "plt.show()"
   ]
  },
  {
   "cell_type": "markdown",
   "id": "f590b4ef-3928-44a0-84a1-d6e2e8b75064",
   "metadata": {},
   "source": [
    "#### 13. Preditive Analysis & Decision Boundary "
   ]
  },
  {
   "cell_type": "code",
   "execution_count": 31,
   "id": "5ef55e0e-94bc-4a06-9c6b-eca7ed9b60e0",
   "metadata": {},
   "outputs": [],
   "source": [
    "def model_predict(X, parameters):\n",
    "    #forward propagation to predict probabilities\n",
    "    activation_layer, i = forward_propagation(X, parameters)\n",
    "    #convert probabilities to 0 or 1 using 0.5 as a threshold\n",
    "    predictions = activation_layer > 0.5\n",
    "    return predictions"
   ]
  },
  {
   "cell_type": "code",
   "execution_count": 32,
   "id": "6ef68ff3-9d41-430a-a91c-8f2744c8a71f",
   "metadata": {},
   "outputs": [],
   "source": [
    "def compute_accuracy(predictions, y):\n",
    "    #ensure y is reshaped for comparison\n",
    "    y = y.reshape(predictions.shape)\n",
    "    #number of correct predictions\n",
    "    correct_predictions = np.sum(predictions == y)\n",
    "    #accuracy by dividing correct predictions by total number of predictions\n",
    "    #y.shape[0] if y is shaped as (m, 1)\n",
    "    accuracy = correct_predictions / y.shape[1]  \n",
    "    #accuracy in percentage\n",
    "    return accuracy * 100 "
   ]
  },
  {
   "cell_type": "code",
   "execution_count": 33,
   "id": "96628d7e-ca36-4701-a826-374cafa4ef38",
   "metadata": {},
   "outputs": [
    {
     "data": {
      "text/plain": [
       "array([ True, False,  True, False, False, False,  True,  True,  True,\n",
       "       False, False, False, False, False,  True,  True, False,  True,\n",
       "        True, False])"
      ]
     },
     "execution_count": 33,
     "metadata": {},
     "output_type": "execute_result"
    }
   ],
   "source": [
    "#making predictions \n",
    "predictions = model_predict(X_test, parameters)\n",
    "predictions[0][:20]"
   ]
  },
  {
   "cell_type": "code",
   "execution_count": 34,
   "id": "d7a6a4e0-4bf7-42e0-8879-58840da86d2b",
   "metadata": {},
   "outputs": [
    {
     "name": "stdout",
     "output_type": "stream",
     "text": [
      "Accuracy: 91.0%\n"
     ]
    }
   ],
   "source": [
    "#calculating accuracy\n",
    "accuracy = compute_accuracy(predictions, y_test)\n",
    "print(f\"Accuracy: {accuracy}%\")"
   ]
  },
  {
   "cell_type": "code",
   "execution_count": 35,
   "id": "3954cb8f-648c-4203-af9c-2ca120bc8dfb",
   "metadata": {},
   "outputs": [],
   "source": [
    "def plot_decision_boundary(model, X, y):\n",
    "    #min and max values and give it some padding\n",
    "    x_min, x_max = X[:, 0].min() - 1, X[:, 0].max() + 1\n",
    "    y_min, y_max = X[:, 1].min() - 1, X[:, 1].max() + 1\n",
    "    #size in the mesh\n",
    "    h = 0.01  \n",
    "    xx, yy = np.meshgrid(np.arange(x_min, x_max, h), np.arange(y_min, y_max, h))\n",
    "    #Flatten the grid to pass into the model\n",
    "    Z = model(np.c_[xx.ravel(), yy.ravel()].T, parameters)\n",
    "    #Threshold to get binary predictions\n",
    "    Z = Z > 0.5  \n",
    "    Z = Z.reshape(xx.shape)\n",
    "    #Plot the contour\n",
    "    plt.contourf(xx, yy, Z, alpha=0.5, cmap=plt.cm.Spectral)\n",
    "    #markers for Class 0 and Class 1\n",
    "    class0_color = 'blue'\n",
    "    class0_marker = 'o'\n",
    "    class1_color = 'red'\n",
    "    class1_marker = 's'\n",
    "    #Class 0 and Class 1\n",
    "    plt.scatter(X[y == 0, 0], X[y == 0, 1], c=class0_color, marker=class0_marker, label='Class 0')\n",
    "    plt.scatter(X[y == 1, 0], X[y == 1, 1], c=class1_color, marker=class1_marker, label='Class 1')\n",
    "    #decision boundary\n",
    "    plt.contour(xx, yy, Z, colors='k', linewidths=0.5)\n",
    "    plt.xlabel('Age')\n",
    "    plt.ylabel('Annual Salary')\n",
    "    plt.title(\"Decision Boundary\")\n",
    "    custom_legend_labels = {\n",
    "        'Class 0': {'color': class0_color, 'marker': class0_marker},\n",
    "        'Class 1': {'color': class1_color, 'marker': class1_marker}\n",
    "    }\n",
    "    handles = [plt.Line2D([], [], marker=properties['marker'], color=properties['color'], \n",
    "                          label=label, markersize=10) \n",
    "               for label, properties in custom_legend_labels.items()]\n",
    "    \n",
    "    plt.legend(handles=handles, loc='best')\n",
    "    plt.grid(True, ls='--', alpha=0.2, color='black')\n",
    "    plt.show()\n",
    "\n",
    "    \n",
    "#predict function for the decision boundary plotting\n",
    "def model_predict(X, parameters):\n",
    "    X = X.T\n",
    "    #run forward propagation to predict probabilities\n",
    "    activation_layer, i = forward_propagation(X, parameters)\n",
    "    #converting probabilities to 0 or 1 using 0.5 as a threshold\n",
    "    predictions = activation_layer > 0.5\n",
    "    return predictions"
   ]
  },
  {
   "cell_type": "code",
   "execution_count": 36,
   "id": "e82e1340-3374-4523-ba1a-366898bbf915",
   "metadata": {},
   "outputs": [
    {
     "data": {
      "image/png": "[encoded data removed]",
      "text/plain": [
       "<Figure size 640x480 with 1 Axes>"
      ]
     },
     "metadata": {},
     "output_type": "display_data"
    }
   ],
   "source": [
    "#decision boundary for the test set\n",
    "#X_test.T to match the expected input shape\n",
    "plot_decision_boundary(model_predict, X_test, y_test)  "
   ]
  },
  {
   "cell_type": "markdown",
   "id": "6bbc083e-c6df-440d-ae7e-7262e0ddc556",
   "metadata": {},
   "source": [
    "#### 14. Model Evaluation & Classification Report"
   ]
  },
  {
   "cell_type": "code",
   "execution_count": 37,
   "id": "ed22ecc4-2fc6-4264-a6aa-ad51f1f3b74f",
   "metadata": {},
   "outputs": [],
   "source": [
    "from sklearn.metrics import confusion_matrix\n",
    "from sklearn.metrics import roc_curve, roc_auc_score"
   ]
  },
  {
   "cell_type": "code",
   "execution_count": 38,
   "id": "da9c6e6e-81d1-4a98-ac6f-a42409a496d7",
   "metadata": {},
   "outputs": [],
   "source": [
    "#reshaping predictions\n",
    "predictions_reshaped = predictions.reshape(-1).astype(int)"
   ]
  },
  {
   "cell_type": "code",
   "execution_count": 39,
   "id": "19685fc5-25cc-4367-8bce-11b222c80883",
   "metadata": {},
   "outputs": [],
   "source": [
    "#calcualting confusion matrix\n",
    "conf_matrix = confusion_matrix(y_test, predictions_reshaped)"
   ]
  },
  {
   "cell_type": "code",
   "execution_count": 40,
   "id": "d7f8cf74-8767-43f8-910e-890d32d5dbff",
   "metadata": {},
   "outputs": [
    {
     "data": {
      "text/plain": [
       "array([[112,   9],\n",
       "       [  9,  70]], dtype=int64)"
      ]
     },
     "execution_count": 40,
     "metadata": {},
     "output_type": "execute_result"
    }
   ],
   "source": [
    "#truth table\n",
    "conf_matrix"
   ]
  },
  {
   "cell_type": "code",
   "execution_count": 41,
   "id": "4cd1bcdf-5c5b-4104-84be-239de37f7527",
   "metadata": {},
   "outputs": [],
   "source": [
    "#manually calcaulting accuracy, precision, recall and f1 score\n",
    "tn, fp, fn, tp = conf_matrix.ravel()\n",
    "true_predictions = tp + tn\n",
    "false_predictions = fp + fn\n",
    "total_predictions = true_predictions + false_predictions\n",
    "accuracy = (tp + tn) / (tp + tn + fp + fn)\n",
    "precision = tp / (tp + fp)\n",
    "recall = tp / (tp + fn)\n",
    "f1_score = 2 * (precision * recall) / (precision + recall)"
   ]
  },
  {
   "cell_type": "code",
   "execution_count": 42,
   "id": "81624391-16d2-4cbf-8fc7-c5eeb2d0d9e0",
   "metadata": {},
   "outputs": [
    {
     "name": "stdout",
     "output_type": "stream",
     "text": [
      "True Positives (TP): 70\n",
      "True Negatives (TN): 112\n",
      "False Positives (FP): 9\n",
      "False Negatives (FN): 9\n"
     ]
    }
   ],
   "source": [
    "#printing result\n",
    "print(f\"True Positives (TP): {tp}\")\n",
    "print(f\"True Negatives (TN): {tn}\")\n",
    "print(f\"False Positives (FP): {fp}\")\n",
    "print(f\"False Negatives (FN): {fn}\")"
   ]
  },
  {
   "cell_type": "code",
   "execution_count": 43,
   "id": "36f8a262-350a-4b9d-8e8f-2c8159a773eb",
   "metadata": {},
   "outputs": [
    {
     "name": "stdout",
     "output_type": "stream",
     "text": [
      "Total True Predictions (TP + TN): 182\n",
      "Total False Predictions (FP + FN): 18\n",
      "Total Predictions: 200\n"
     ]
    }
   ],
   "source": [
    "#total predictions\n",
    "print(f\"Total True Predictions (TP + TN): {true_predictions}\")\n",
    "print(f\"Total False Predictions (FP + FN): {false_predictions}\")\n",
    "print(f\"Total Predictions: {total_predictions}\")"
   ]
  },
  {
   "cell_type": "code",
   "execution_count": 44,
   "id": "b113c574-cb8b-4aab-af8e-952a9fe934ec",
   "metadata": {},
   "outputs": [
    {
     "name": "stdout",
     "output_type": "stream",
     "text": [
      "Accuracy: 0.91\n",
      "Precision: 0.8860759493670886\n",
      "Recall: 0.8860759493670886\n",
      "F1 Score: 0.8860759493670886\n"
     ]
    }
   ],
   "source": [
    "#classification metrics\n",
    "print(f\"Accuracy: {accuracy}\")\n",
    "print(f\"Precision: {precision}\")\n",
    "print(f\"Recall: {recall}\")\n",
    "print(f\"F1 Score: {f1_score}\")"
   ]
  },
  {
   "cell_type": "code",
   "execution_count": 45,
   "id": "a70d5845-f3c4-41ab-9063-5b4b76bf4a70",
   "metadata": {},
   "outputs": [],
   "source": [
    "def model_predict_proba(X, parameters):\n",
    "    #forward propagation to predict probabilities\n",
    "    activation_layer, _ = forward_propagation(X, parameters)\n",
    "    #return the probabilities without applying a threshold\n",
    "    return activation_layer"
   ]
  },
  {
   "cell_type": "code",
   "execution_count": 46,
   "id": "0c645cd1-2b79-43b8-88ef-cd2d612d779a",
   "metadata": {},
   "outputs": [],
   "source": [
    "y_proba = model_predict_proba(X_test, parameters).reshape(-1)\n",
    "fpr, tpr, thresholds = roc_curve(y_test, y_proba)\n",
    "auc = roc_auc_score(y_test, y_proba)"
   ]
  },
  {
   "cell_type": "code",
   "execution_count": 47,
   "id": "09d9ecd1-515e-4df9-899b-84e330e9b285",
   "metadata": {},
   "outputs": [
    {
     "data": {
      "image/png": "[encoded data removed]",
      "text/plain": [
       "<Figure size 600x400 with 1 Axes>"
      ]
     },
     "metadata": {},
     "output_type": "display_data"
    }
   ],
   "source": [
    "plt.figure(figsize=(6, 4))\n",
    "plt.plot(fpr, tpr, color='blue', lw=2, label=f'ROC curve (area = {auc:.2f})')\n",
    "plt.plot([0, 1], [0, 1], color='darkgray', lw=2, linestyle='--')\n",
    "plt.xlim([0.0, 1.0])\n",
    "plt.ylim([0.0, 1.05])\n",
    "plt.xlabel('False Positive Rate')\n",
    "plt.ylabel('True Positive Rate')\n",
    "plt.title('Receiver Operating Characteristic (ROC) Curve')\n",
    "plt.grid(True, ls='--', alpha=0.2, color='black')\n",
    "plt.legend(loc='lower right')\n",
    "plt.show()"
   ]
  },
  {
   "cell_type": "markdown",
   "id": "596aa0cf-f60e-42ad-9e77-05949bb099e6",
   "metadata": {},
   "source": [
    "### References\r\n",
    "\r\n",
    "- [Scikit-Learn Confusion Matrix Documentation](https://scikit-learn.org/stable/modules/generated/sklearn.metrics.confusion_matrix.html)\r\n",
    "\r\n",
    "- [TensorFlow TFX Serving Architecture Documentation](https://www.tensorflow.org/tfx/serving/architecture)\r\n",
    "\r\n",
    "- [The Concept of Artificial Neurons (Perceptrons) in Neural Networks](https://towardsdatascience.com/the-concept-of-artificial-neurons-perceptrons-in-neural-networks-fab22249cbfc)\r\n",
    "\r\n",
    "- [5 Different Types of Neural Networks](https://www.projectpro.io/article/5-different-types-of-neural-netwoks/431)\r\n"
   ]
  }
 ],
 "metadata": {
  "kernelspec": {
   "display_name": "Python 3 (ipykernel)",
   "language": "python",
   "name": "python3"
  },
  "language_info": {
   "codemirror_mode": {
    "name": "ipython",
    "version": 3
   },
   "file_extension": ".py",
   "mimetype": "text/x-python",
   "name": "python",
   "nbconvert_exporter": "python",
   "pygments_lexer": "ipython3",
   "version": "3.11.7"
  }
 },
 "nbformat": 4,
 "nbformat_minor": 5
}
